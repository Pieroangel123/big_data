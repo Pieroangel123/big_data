{
  "nbformat": 4,
  "nbformat_minor": 0,
  "metadata": {
    "colab": {
      "provenance": []
    },
    "kernelspec": {
      "name": "python3",
      "display_name": "Python 3"
    },
    "language_info": {
      "name": "python"
    }
  },
  "cells": [
    {
      "cell_type": "code",
      "execution_count": 1,
      "metadata": {
        "colab": {
          "base_uri": "https://localhost:8080/"
        },
        "id": "y68TumfR_IMk",
        "outputId": "9f01efc9-9a52-49c7-9e6d-00faac54fdd0"
      },
      "outputs": [
        {
          "output_type": "stream",
          "name": "stdout",
          "text": [
            "Collecting psycopg2-binary\n",
            "  Downloading psycopg2_binary-2.9.9-cp310-cp310-manylinux_2_17_x86_64.manylinux2014_x86_64.whl (3.0 MB)\n",
            "\u001b[2K     \u001b[90m━━━━━━━━━━━━━━━━━━━━━━━━━━━━━━━━━━━━━━━━\u001b[0m \u001b[32m3.0/3.0 MB\u001b[0m \u001b[31m24.7 MB/s\u001b[0m eta \u001b[36m0:00:00\u001b[0m\n",
            "\u001b[?25hInstalling collected packages: psycopg2-binary\n",
            "Successfully installed psycopg2-binary-2.9.9\n"
          ]
        }
      ],
      "source": [
        "!pip install psycopg2-binary"
      ]
    },
    {
      "cell_type": "code",
      "source": [
        "!pip install pyspark py4j"
      ],
      "metadata": {
        "id": "IhUekgDXzM3B"
      },
      "execution_count": null,
      "outputs": []
    },
    {
      "cell_type": "code",
      "source": [
        "from pyspark.sql.functions import col"
      ],
      "metadata": {
        "id": "BphXZPbaCX_d"
      },
      "execution_count": 11,
      "outputs": []
    },
    {
      "cell_type": "code",
      "source": [
        "import psycopg2\n",
        "\n",
        "host = \"dpg-ck7g9u7q54js73famlu0-a.oregon-postgres.render.com\"\n",
        "port = 5432\n",
        "database = \"codema\"\n",
        "user = \"codema_user\"\n",
        "password = \"TL35jKeo53oDQkPDsw6c587xWAMSCmd6\"\n",
        "\n",
        "\n",
        "try:\n",
        "    connection = psycopg2.connect(\n",
        "        host=host,\n",
        "        port=port,\n",
        "        database=database,\n",
        "        user=user,\n",
        "        password=password\n",
        "    )\n",
        "    cursor = connection.cursor()\n",
        "\n",
        "    #Validación\n",
        "    print(\"Conexión exitosa a la base de datos\")\n",
        "\n",
        "    #Consulta\n",
        "    cursor.execute(\"SELECT * FROM receipt\")\n",
        "\n",
        "    # Almacenar en variable\n",
        "    records = cursor.fetchall()\n",
        "\n",
        "    # Mostrar\n",
        "    for record in records:\n",
        "        print(record)\n",
        "\n",
        "    connection.close()\n",
        "\n",
        "except psycopg2.Error as error:\n",
        "    print(\"Error al conectarse a la base de datos:\", error)\n"
      ],
      "metadata": {
        "colab": {
          "base_uri": "https://localhost:8080/"
        },
        "id": "Q7j_p1MJ_X1i",
        "outputId": "b703f93b-ba6f-4abc-c9f7-c9fa4ba2ecdc"
      },
      "execution_count": 4,
      "outputs": [
        {
          "output_type": "stream",
          "name": "stdout",
          "text": [
            "Conexión exitosa a la base de datos\n",
            "(12, 'daniel', '2023-01-10', Decimal('122.00'))\n",
            "(9, 'neil', '2023-01-10', Decimal('130.00'))\n",
            "(7, 'Fabricio B', '2023-1-3', Decimal('150.00'))\n",
            "(13, 'Jose', '2023-1-12', Decimal('18993.00'))\n",
            "(14, 'Fabricio', '2023-1-6', Decimal('2022.00'))\n",
            "(8, 'giomar', '2023-01-10', Decimal('145.00'))\n",
            "(15, 'Piero', '2023-1-10', Decimal('123.00'))\n",
            "(3, 'piero', '2023-1-10', Decimal('122222.00'))\n",
            "(10, 'kathy', '2023-01-10', Decimal('122.00'))\n",
            "(16, 'Kathy', '2023-1-19', Decimal('90.00'))\n",
            "(17, 'Jose', '2023-1-24', Decimal('90.00'))\n",
            "(11, 'Piero', '2023-01-10', Decimal('122.00'))\n"
          ]
        }
      ]
    },
    {
      "cell_type": "code",
      "source": [
        "!wget https://jdbc.postgresql.org/download/postgresql-42.2.23.jar -P /content/\n"
      ],
      "metadata": {
        "colab": {
          "base_uri": "https://localhost:8080/"
        },
        "id": "P9eDPUuhoNHq",
        "outputId": "fcf8e17e-f738-4a50-d4ce-43540f7ad2a0"
      },
      "execution_count": 5,
      "outputs": [
        {
          "output_type": "stream",
          "name": "stdout",
          "text": [
            "--2023-11-24 14:48:00--  https://jdbc.postgresql.org/download/postgresql-42.2.23.jar\n",
            "Resolving jdbc.postgresql.org (jdbc.postgresql.org)... 72.32.157.228, 2001:4800:3e1:1::228\n",
            "Connecting to jdbc.postgresql.org (jdbc.postgresql.org)|72.32.157.228|:443... connected.\n",
            "HTTP request sent, awaiting response... 200 OK\n",
            "Length: 1005522 (982K) [application/java-archive]\n",
            "Saving to: ‘/content/postgresql-42.2.23.jar.1’\n",
            "\n",
            "postgresql-42.2.23. 100%[===================>] 981.96K  6.23MB/s    in 0.2s    \n",
            "\n",
            "2023-11-24 14:48:01 (6.23 MB/s) - ‘/content/postgresql-42.2.23.jar.1’ saved [1005522/1005522]\n",
            "\n"
          ]
        }
      ]
    },
    {
      "cell_type": "code",
      "source": [
        "from pyspark.sql import SparkSession\n",
        "\n",
        "#Sesión de Spark y Controlador PostgreSQL\n",
        "spark = SparkSession.builder.appName(\"example\").config(\"spark.driver.extraClassPath\", \"/content/postgresql-42.2.23.jar\").getOrCreate()\n",
        "\n",
        "# Conn de bd de render\n",
        "host = \"dpg-ck7g9u7q54js73famlu0-a.oregon-postgres.render.com\"\n",
        "port = 5432\n",
        "database = \"codema\"\n",
        "user = \"codema_user\"\n",
        "password = \"TL35jKeo53oDQkPDsw6c587xWAMSCmd6\"\n",
        "\n",
        "#conexión\n",
        "url = f\"jdbc:postgresql://{host}:{port}/{database}\"\n",
        "properties = {\"user\": user, \"password\": password, \"driver\": \"org.postgresql.Driver\"}\n",
        "\n"
      ],
      "metadata": {
        "id": "WYyMP6YioWbh"
      },
      "execution_count": 6,
      "outputs": []
    },
    {
      "cell_type": "code",
      "source": [
        "    # Leer por pyspark\n",
        "    df = spark.read.jdbc(url=url, table=\"premier_league\", properties=properties)\n",
        "\n",
        "\n",
        "\n",
        "    # Muestra el DataFrame\n",
        "    df.show()\n",
        "\n"
      ],
      "metadata": {
        "colab": {
          "base_uri": "https://localhost:8080/"
        },
        "id": "igQHU2uS_znp",
        "outputId": "1cc8946a-f45e-4aa6-e703-d29422cc2986"
      },
      "execution_count": 9,
      "outputs": [
        {
          "output_type": "stream",
          "name": "stdout",
          "text": [
            "+---+----------+-------------------+----------------+----------------+----+----+---+----+----+---+----------+---+---+---+---+---+---+---+---+---+---+---+---+-----+-----+-----+----+----+----+----+----+----+-----+----+-----+----+----+----+----+---+----+----+----+----+-----+----+-----+--------+--------+-----+-----+-------+-------+-------+-------+-----+-------+-------+----+----+------+------+------+------+------+------+------+----+----+----+----+----+----+-----+-----+-----+----+----+----+----+----+----+-----+-----+-----+-----+-----+-----+---------+---------+------+------+--------+--------+--------+--------+-----+--------+--------+-----+-----+-------+-------+-------+-------+\n",
            "|Div|      Date|               Time|        HomeTeam|        AwayTeam|FTHG|FTAG|FTR|HTHG|HTAG|HTR|   Referee| HS| AS|HST|AST| HF| AF| HC| AC| HY| AY| HR| AR|B365H|B365D|B365A| BWH| BWD| BWA| IWH| IWD| IWA|  PSH| PSD|  PSA| WHH| WHD| WHA| VCH|VCD| VCA|MaxH|MaxD|MaxA| AvgH|AvgD| AvgA|B365>2.5|B365<2.5|P>2.5|P<2.5|Max>2.5|Max<2.5|Avg>2.5|Avg<2.5|  AHh|B365AHH|B365AHA|PAHH|PAHA|MaxAHH|MaxAHA|AvgAHH|AvgAHA|B365CH|B365CD|B365CA|BWCH|BWCD|BWCA|IWCH|IWCD|IWCA| PSCH| PSCD| PSCA|WHCH|WHCD|WHCA|VCCH|VCCD|VCCA|MaxCH|MaxCD|MaxCA|AvgCH|AvgCD|AvgCA|B365C>2.5|B365C<2.5|PC>2.5|PC<2.5|MaxC>2.5|MaxC<2.5|AvgC>2.5|AvgC<2.5| AHCh|B365CAHH|B365CAHA|PCAHH|PCAHA|MaxCAHH|MaxCAHA|AvgCAHH|AvgCAHA|\n",
            "+---+----------+-------------------+----------------+----------------+----+----+---+----+----+---+----------+---+---+---+---+---+---+---+---+---+---+---+---+-----+-----+-----+----+----+----+----+----+----+-----+----+-----+----+----+----+----+---+----+----+----+----+-----+----+-----+--------+--------+-----+-----+-------+-------+-------+-------+-----+-------+-------+----+----+------+------+------+------+------+------+------+----+----+----+----+----+----+-----+-----+-----+----+----+----+----+----+----+-----+-----+-----+-----+-----+-----+---------+---------+------+------+--------+--------+--------+--------+-----+--------+--------+-----+-----+-------+-------+-------+-------+\n",
            "| E0|09/08/2019|2023-11-23 20:00:00|       Liverpool|         Norwich|   4|   1|  H|   4|   0|  H|  M Oliver| 15| 12|  7|  5|  9|  9| 11|  2|  0|  2|  0|  0| 1.14| 10.0| 19.0|1.14|8.25|18.5|1.15| 8.0|18.0| 1.15|9.59|18.05|1.12| 8.5|21.0|1.14|9.5|23.0|1.16|10.0|23.0| 1.14|8.75|19.83|     1.4|     3.0|  1.4| 3.11|   1.45|   3.11|   1.41|   2.92|-2.25|   1.96|   1.94|1.97|1.95|  1.97|   2.0|  1.94|  1.94|  1.14|   9.5|  21.0|1.14| 9.0|20.0|1.15| 8.0|18.0| 1.14|10.43|19.63|1.11| 9.5|21.0|1.14| 9.5|23.0| 1.16| 10.5| 23.0| 1.14| 9.52|19.18|      1.3|      3.5|  1.34|  3.44|    1.36|    3.76|    1.32|    3.43|-2.25|    1.91|    1.99| 1.94| 1.98|   1.99|   2.07|    1.9|   1.99|\n",
            "| E0|10/08/2019|2023-11-23 12:30:00|        West Ham|        Man City|   0|   5|  A|   0|   1|  A|    M Dean|  5| 14|  3|  9|  6| 13|  1|  1|  2|  2|  0|  0| 12.0|  6.5| 1.22|11.5|5.75|1.26|11.0| 6.1|1.25|11.68|6.53| 1.26|13.0| 6.0|1.24|12.0|6.5|1.25|13.0|6.75|1.29|11.84|6.28| 1.25|    1.44|    2.75| 1.49| 2.77|   1.51|   2.77|   1.48|   2.65| 1.75|    2.0|    1.9|2.02| 1.9|  2.02|  1.92|  1.99|  1.89|  12.0|   7.0|  1.25|11.0| 6.0|1.26|11.0| 6.1|1.25|11.11| 6.68| 1.27|11.0| 6.5|1.24|12.0| 6.5|1.25| 13.0|  7.0| 1.29|11.14| 6.46| 1.26|      1.4|      3.0|  1.43|  3.03|     1.5|    3.22|    1.41|    2.91| 1.75|    1.95|    1.95| 1.96| 1.97|   2.07|   1.98|   1.97|   1.92|\n",
            "| E0|10/08/2019|2023-11-23 15:00:00|     Bournemouth|Sheffield United|   1|   1|  D|   0|   0|  D|  K Friend| 13|  8|  3|  3| 10| 19|  3|  4|  2|  1|  0|  0| 1.95|  3.6|  3.6|1.95| 3.6| 3.9|1.97|3.55| 3.8| 2.04|3.57|  3.9| 2.0| 3.5| 3.8| 2.0|3.6| 4.0|2.06|3.65| 4.0| 2.01|3.53| 3.83|     1.9|     1.9| 1.96| 1.96|    2.0|   1.99|    1.9|   1.93| -0.5|   2.01|   1.89|2.04|1.88|  2.04|  1.91|   2.0|  1.88|  1.95|   3.7|   4.2|1.95| 3.6| 3.9|1.97|3.55|3.85| 1.98| 3.67| 4.06|1.95| 3.6| 3.9| 2.0| 3.6| 4.0| 2.03|  3.7|  4.2| 1.98| 3.58| 3.96|      1.9|      1.9|  1.94|  1.97|    1.97|    1.98|    1.91|    1.92| -0.5|    1.95|    1.95| 1.98| 1.95|    2.0|   1.96|   1.96|   1.92|\n",
            "| E0|10/08/2019|2023-11-23 15:00:00|         Burnley|     Southampton|   3|   0|  H|   0|   0|  D|   G Scott| 10| 11|  4|  3|  6| 12|  2|  7|  0|  0|  0|  0| 2.62|  3.2| 2.75|2.65| 3.2|2.75|2.65| 3.2|2.75| 2.71|3.31| 2.81| 2.7| 3.2|2.75| 2.7|3.3| 2.8| 2.8|3.33|2.85| 2.68|3.22| 2.78|     2.1|    1.72| 2.17| 1.77|    2.2|   1.78|   2.12|   1.73|  0.0|   1.92|   1.98|1.93| 2.0|  1.94|   2.0|  1.91|  1.98|   2.7|  3.25|   2.9|2.65| 3.1|2.85| 2.6| 3.2|2.85| 2.71| 3.19|  2.9|2.62| 3.2| 2.8| 2.7|3.25| 2.9| 2.72| 3.26| 2.95| 2.65| 3.18| 2.88|      2.1|     1.72|  2.19|  1.76|    2.25|    1.78|    2.17|    1.71|  0.0|    1.87|    2.03| 1.89| 2.03|    1.9|   2.07|   1.86|   2.02|\n",
            "| E0|10/08/2019|2023-11-23 15:00:00|  Crystal Palace|         Everton|   0|   0|  D|   0|   0|  D|    J Moss|  6| 10|  2|  3| 16| 14|  6|  2|  2|  1|  0|  1|  3.0| 3.25| 2.37| 3.2| 3.2|2.35| 3.1| 3.2| 2.4| 3.21|3.37| 2.39| 3.1| 3.3|2.35| 3.2|3.3|2.45|3.21| 3.4|2.52| 3.13|3.27|  2.4|     2.2|    1.66| 2.23| 1.74|   2.25|   1.74|   2.18|    1.7| 0.25|   1.85|   2.05|1.88|2.05|  1.88|  2.09|  1.84|  2.04|   3.4|   3.5|  2.25| 3.3| 3.3|2.25| 3.4| 3.3| 2.2| 3.37| 3.45| 2.27| 3.3| 3.3|2.25| 3.4| 3.3|2.25| 3.55|  3.5| 2.34| 3.41| 3.37| 2.23|      2.2|     1.66|  2.22|  1.74|    2.28|    1.77|    2.17|    1.71| 0.25|    1.82|    2.08| 1.97| 1.96|   2.03|   2.08|   1.96|   1.93|\n",
            "| E0|10/08/2019|2023-11-23 15:00:00|         Watford|        Brighton|   0|   3|  A|   0|   1|  A|  C Pawson| 11|  5|  3|  3| 15| 11|  5|  2|  0|  1|  0|  0|  1.9|  3.4|  4.0| 1.9| 3.4|4.33|1.93| 3.4|4.25| 1.98|3.44| 4.37|1.95| 3.4| 4.2|1.95|3.5|4.33| 2.0| 3.5| 4.6| 1.94|3.41| 4.26|     2.1|    1.72| 2.19| 1.76|   2.24|   1.76|   2.16|   1.71| -0.5|   1.95|   1.95|1.98|1.95|  1.98|  1.98|  1.94|  1.94|   2.1|  3.25|   4.2| 2.1| 3.1| 4.0|2.05| 3.2| 4.0| 2.05| 3.38| 4.12|2.05|3.25| 4.0|2.15| 3.3| 3.9| 2.15| 3.38|  4.2| 2.07| 3.27| 4.04|      2.1|     1.72|  2.16|  1.78|     2.2|    1.78|    2.14|    1.73| -0.5|    2.04|    1.86| 2.05| 1.88|   2.12|   1.91|   2.05|   1.84|\n",
            "| E0|10/08/2019|2023-11-23 17:30:00|       Tottenham|     Aston Villa|   3|   1|  H|   0|   1|  A|C Kavanagh| 31|  7|  7|  4| 13|  9| 14|  0|  1|  0|  0|  0|  1.3| 5.25| 10.0| 1.3| 5.5|10.0| 1.3| 5.5| 9.6|  1.3|5.84|10.96|1.29| 5.5|10.0| 1.3|5.5|12.0|1.33|5.95|12.0|  1.3|5.53|10.51|    1.66|     2.2| 1.64|  2.4|    1.7|    2.4|   1.65|   2.26| -1.5|   1.97|   1.93|1.99|1.93|   2.0|   2.0|  1.93|  1.94|  1.36|   5.5|   9.0|1.35| 5.0| 9.0| 1.3| 5.5| 9.6| 1.39| 5.35| 8.42|1.35|5.25| 8.0| 1.4| 5.2| 9.0|  1.4|  5.7| 10.0| 1.36| 5.29| 8.82|     1.57|     2.37|  1.58|  2.52|    1.65|    2.55|    1.58|     2.4| -1.5|     2.1|     1.7| 2.18| 1.77|   2.21|   1.87|   2.08|    1.8|\n",
            "| E0|11/08/2019|2023-11-23 14:00:00|       Leicester|          Wolves|   0|   0|  D|   0|   0|  D|A Marriner| 15|  8|  1|  2|  3| 13| 12|  3|  0|  2|  0|  0|  2.2|  3.2|  3.4|2.25| 3.3| 3.3| 2.2|3.25|3.45| 2.21|3.34| 3.66| 2.2|3.25| 3.5|2.25|3.3| 3.6|2.29|3.38|3.66| 2.22|3.28| 3.48|     2.2|    1.66| 2.23| 1.74|   2.25|   1.74|   2.17|    1.7|-0.25|    1.9|    2.0| 1.9|2.04|  1.95|  2.04|  1.91|  1.98|   2.4|  3.25|   3.3|2.35| 3.2| 3.3|2.35|3.15| 3.2|  2.5| 3.12|  3.3|2.35| 3.1| 3.3|2.45| 3.2| 3.3| 2.55| 3.25| 3.58| 2.41| 3.14| 3.29|      2.3|     1.61|  2.45|  1.63|    2.45|    1.71|    2.33|    1.62|-0.25|    2.07|    1.83| 2.11| 1.83|   2.12|   1.98|   2.06|   1.84|\n",
            "| E0|11/08/2019|2023-11-23 14:00:00|       Newcastle|         Arsenal|   0|   1|  A|   0|   0|  D|M Atkinson|  9|  8|  2|  2| 12|  7|  5|  3|  1|  3|  0|  0|  4.5| 3.75| 1.72| 4.5|3.75|1.78| 4.4|3.85|1.77| 4.58|3.93| 1.81| 4.5|3.75|1.78| 4.6|3.9| 1.8| 4.7| 4.0|1.83| 4.49|3.82| 1.79|     1.8|     2.0| 1.83|  2.1|   1.83|   2.14|   1.77|   2.07| 0.75|   1.85|   2.05|1.86|2.07|  1.88|  2.08|  1.85|  2.03|   3.4|   3.6|   2.2| 3.3| 3.5| 2.2|3.25| 3.5| 2.2| 3.36| 3.56| 2.25| 3.5| 3.4|2.15| 3.4| 3.5|2.25| 3.76| 3.65| 2.25| 3.36| 3.51|  2.2|      1.8|      2.0|  1.83|  2.09|    1.85|    2.17|    1.79|    2.05| 0.25|    1.99|    1.91| 1.99| 1.95|   2.17|   1.97|    2.0|   1.89|\n",
            "| E0|11/08/2019|2023-11-23 16:30:00|      Man United|         Chelsea|   4|   0|  H|   1|   0|  H|  A Taylor| 11| 18|  5|  7| 15| 13|  3|  5|  3|  4|  0|  0|  2.1|  3.3|  3.5|2.15| 3.3| 3.5|2.15|3.35| 3.4| 2.21|3.37| 3.63|2.15| 3.3| 3.5|2.25|3.3| 3.5|2.28|3.43|3.63| 2.19|3.32| 3.49|     2.0|     1.8| 2.05| 1.87|    2.1|   1.87|   2.01|   1.83|-0.25|    1.9|    2.0| 1.9|2.04|  1.92|  2.04|  1.89|   2.0|  2.05|   3.5|   4.0| 2.1| 3.3| 3.8|2.05| 3.3|3.85| 2.04| 3.44| 4.14| 2.0| 3.4| 4.0|2.05| 3.4| 4.1|  2.2|  3.5|  4.4| 2.05| 3.36| 3.99|      2.0|      1.8|  2.05|  1.88|    2.07|    2.04|    1.99|    1.84| -0.5|    2.02|    1.88| 2.04|  1.9|    2.1|   1.91|   2.04|   1.85|\n",
            "| E0|17/08/2019|2023-11-23 12:30:00|         Arsenal|         Burnley|   2|   1|  H|   1|   1|  D|    M Dean| 16| 18|  9|  5| 13| 11| 10|  7|  2|  1|  0|  0|  1.3|  5.5| 10.0| 1.3| 5.5|10.0| 1.3| 5.6| 9.5| 1.34|5.68| 9.35|1.32|5.25|10.0|1.33|5.5|10.5|1.36|5.75|11.0| 1.33|5.49| 9.48|    1.57|    2.37| 1.61| 2.47|   1.65|   2.47|    1.6|   2.34| -1.5|   2.02|   1.91|2.05|1.88|  2.06|  1.95|  1.98|   1.9|  1.33|  5.25|   9.0|1.33| 5.5|9.25| 1.3| 5.6| 9.5| 1.38| 5.35| 8.78|1.33|5.25| 9.5|1.36| 5.4| 9.5|  1.4|  5.6| 10.0| 1.36| 5.27| 8.77|     1.61|      2.3|  1.63|  2.42|    1.65|    2.47|    1.61|    2.35| -1.5|    2.11|    1.82| 2.11| 1.82|   2.16|   1.94|   2.05|   1.84|\n",
            "| E0|17/08/2019|2023-11-23 15:00:00|     Aston Villa|     Bournemouth|   1|   2|  A|   0|   2|  A|M Atkinson| 22| 12|  7|  4| 10| 13| 10|  5|  0|  2|  0|  0|  2.3|  3.4|  3.1|2.25| 3.5| 3.1| 2.3|3.45|3.05| 2.32|3.56| 3.17|2.25| 3.5| 3.1|2.38|3.5| 3.2|2.42|3.64| 3.2| 2.33|3.49| 3.08|     1.8|     2.0| 1.81| 2.11|   1.86|   2.11|   1.81|   2.03|-0.25|   2.02|   1.91|2.02|1.91|  2.03|  1.92|  2.01|  1.88|   2.2|   3.6|   3.1|2.25| 3.6| 3.1|2.25| 3.6|3.05|  2.3| 3.69| 3.11|2.25| 3.5| 3.1| 2.3| 3.7|3.13| 2.33| 3.75| 3.22| 2.26| 3.62| 3.12|     1.61|      2.3|  1.64|  2.39|    1.75|    2.39|    1.66|    2.26|-0.25|    2.01|    1.92| 2.01| 1.92|   2.01|   1.96|   1.97|   1.92|\n",
            "| E0|17/08/2019|2023-11-23 15:00:00|        Brighton|        West Ham|   1|   1|  D|   0|   0|  D|  A Taylor| 16|  8|  4|  3| 11| 10|  8|  6|  0|  2|  0|  0| 2.55| 3.25| 2.87| 2.5| 3.3| 2.9| 2.5| 3.3|2.85| 2.58|3.38| 2.92| 2.5| 3.3|2.88|2.55|3.4| 3.0|2.65|3.42| 3.0| 2.52|3.33|  2.9|     1.9|     1.9| 1.99| 1.93|    2.0|   1.94|   1.95|   1.87|-0.25|   2.07|   1.72|2.21|1.75|  2.21|   1.8|  2.16|  1.75|   2.2|   3.4|   3.3|2.25| 3.3| 3.4| 2.2| 3.4| 3.3| 2.22|  3.6| 3.34| 2.1| 3.5| 3.5|2.25| 3.4| 3.5|  2.3|  3.6| 3.74| 2.23| 3.44| 3.34|      1.9|      1.9|  1.95|  1.97|     2.0|    2.12|    1.92|    1.91|-0.25|    1.91|    2.02| 1.93|  2.0|   1.96|   2.15|   1.91|   1.98|\n",
            "| E0|17/08/2019|2023-11-23 15:00:00|         Everton|         Watford|   1|   0|  H|   1|   0|  H|   L Mason| 12|  8|  2|  2| 11| 11|  4|  7|  2|  3|  0|  0| 1.72|  3.8| 4.75|1.67| 4.0| 5.0| 1.7| 3.9|4.65| 1.76|3.95| 4.87|1.73| 3.8| 4.8|1.73|4.0| 5.2| 1.8|4.05| 5.2| 1.73| 3.9| 4.86|    1.72|     2.1| 1.86| 2.06|   1.86|    2.2|   1.79|   2.05|-0.75|   1.97|   1.96| 2.0|1.93|   2.0|  1.97|  1.94|  1.95|   1.8|   3.6|   4.5|1.83|3.75| 4.5|1.83|3.65|4.35| 1.85| 3.66| 4.64|1.78| 3.7| 4.5|1.85|3.75| 4.6| 1.89| 3.88| 4.84| 1.83| 3.69| 4.56|     1.72|      2.1|  1.81|  2.12|    1.82|    2.14|    1.78|    2.07|-0.75|    2.11|    1.82| 2.12| 1.81|   2.16|   1.87|   2.07|   1.83|\n",
            "| E0|17/08/2019|2023-11-23 15:00:00|         Norwich|       Newcastle|   3|   1|  H|   1|   0|  H| S Attwell| 15| 10|  8|  3|  9| 11|  7|  5|  1|  3|  0|  0| 2.25|  3.3|  3.3|2.25| 3.3| 3.3| 2.2|3.35|3.35| 2.25|3.42| 3.44|2.15| 3.4| 3.4|2.25|3.4| 3.5| 2.3| 3.5| 3.5| 2.23|3.38| 3.38|     1.9|     1.9| 1.98| 1.93|   2.05|   1.93|   1.95|   1.88|-0.25|   1.93|    2.0|1.94|1.99|  1.95|  2.01|  1.92|  1.97|   2.1|   3.4|   3.5|2.15| 3.4| 3.5|2.15|3.35| 3.5| 2.14| 3.57| 3.58| 2.1| 3.4| 3.6| 2.2| 3.4| 3.7| 2.25|  3.6| 3.86| 2.15| 3.44| 3.55|      1.9|      1.9|  1.96|  1.96|     2.0|     2.1|    1.93|     1.9|-0.25|    1.84|    2.09| 1.85| 2.08|   1.88|   2.15|   1.84|   2.05|\n",
            "| E0|17/08/2019|2023-11-23 15:00:00|     Southampton|       Liverpool|   1|   2|  A|   0|   1|  A|A Marriner| 14| 15|  3|  6| 10|  6|  5|  9|  2|  1|  0|  0|  6.5| 4.75| 1.44|6.25|4.75|1.48| 7.5| 4.8| 1.4| 7.04|4.72| 1.48| 7.0| 4.6|1.44| 7.5|4.8|1.45| 7.5| 4.9|1.52| 6.77|4.67| 1.47|    1.66|     2.2| 1.65| 2.37|    1.7|   2.38|   1.64|   2.28| 1.25|   1.86|   2.07|1.85|2.08|  1.87|  2.09|  1.84|  2.04|   6.5|   4.5|  1.45| 6.5| 4.5| 1.5| 7.0| 4.5|1.45| 6.43| 4.57| 1.53| 7.0| 4.4|1.47| 7.0| 4.6| 1.5|  7.4| 4.85| 1.55| 6.48| 4.56|  1.5|     1.61|      2.3|  1.66|  2.36|    1.68|    2.44|    1.63|    2.32|  1.0|    2.07|    1.86| 2.05| 1.88|   2.21|    1.9|   2.08|   1.81|\n",
            "| E0|17/08/2019|2023-11-23 17:30:00|        Man City|       Tottenham|   2|   2|  D|   2|   1|  H|  M Oliver| 30|  3| 10|  2| 14|  4| 13|  2|  1|  0|  0|  0| 1.36| 5.25|  8.0|1.35| 5.5|7.75|1.35| 5.3| 8.0| 1.37|5.42| 8.71|1.35|5.25| 8.5|1.36|5.5| 9.0| 1.4| 5.5| 9.0| 1.36|5.32| 8.46|    1.53|     2.5| 1.55| 2.61|   1.56|   2.69|   1.52|   2.55| -1.5|   2.03|    1.9|2.04|1.89|  2.04|  1.91|   2.0|  1.87|  1.33|   5.5|   8.0|1.36| 5.5|8.25|1.35| 5.3| 8.0| 1.37| 5.63| 8.39|1.35|5.25| 8.5|1.36| 5.5| 9.0|  1.4|  5.7| 9.05| 1.36| 5.47|  8.2|      1.5|     2.62|  1.52|  2.71|    1.55|    2.92|     1.5|    2.62| -1.5|    2.05|    1.88| 2.04| 1.89|   2.07|   1.97|    2.0|   1.88|\n",
            "| E0|18/08/2019|2023-11-23 14:00:00|Sheffield United|  Crystal Palace|   1|   0|  H|   0|   0|  D|   D Coote| 15|  6|  3|  4| 16| 11|  8|  4|  3|  1|  0|  0| 2.55|  3.1|  2.9|2.55| 3.2| 2.9|2.55| 3.1|2.95|  2.6|3.21| 3.02|2.55| 3.2| 2.9|2.63|3.2| 3.0|2.65|3.35| 3.1| 2.57|3.19| 2.95|     2.3|    1.61| 2.41| 1.63|   2.45|   1.66|   2.37|    1.6|-0.25|   2.15|   1.67|2.21|1.75|  2.25|  1.76|  2.19|  1.73|  2.45|   3.3|   2.9| 2.5|3.25| 3.0|2.45|3.15| 3.0| 2.51| 3.33| 3.08| 2.5| 3.1| 3.1|2.55|3.25| 3.1|  2.6| 3.33|  3.1| 2.51| 3.24| 3.01|      2.1|     1.72|  2.13|   1.8|     2.2|    1.87|     2.1|    1.76|-0.25|    2.02|    1.77| 2.14| 1.81|   2.18|   1.84|   2.13|   1.78|\n",
            "| E0|18/08/2019|2023-11-23 16:30:00|         Chelsea|       Leicester|   1|   1|  D|   1|   0|  H|O Langford| 14| 12|  5|  3|  9| 14|  4|  5|  1|  0|  0|  0|  1.7| 3.75|  5.0|1.72| 3.7| 5.0|1.73|3.75| 4.9| 1.74|3.79| 5.28| 1.7| 3.7|5.25|1.73|3.8|5.25|1.77| 4.0|5.35| 1.73|3.77| 5.07|     1.9|     1.9| 2.01| 1.91|   2.02|   1.92|   1.96|   1.86|-0.75|   1.97|   1.96|1.99|1.94|  1.99|  1.97|  1.95|  1.94|   1.7|  3.75|   5.0|1.72| 3.8| 5.0| 1.7| 3.8| 5.0| 1.73|  3.9| 5.23| 1.7| 3.7|5.25|1.75| 3.8| 5.0|  1.8|  4.0|  5.7| 1.73| 3.84|  5.0|      1.8|      2.0|  1.83|   2.1|    1.87|    2.17|    1.82|    2.01|-0.75|    1.93|    1.97| 1.96| 1.98|   2.01|   2.06|   1.94|   1.96|\n",
            "| E0|19/08/2019|2023-11-23 20:00:00|          Wolves|      Man United|   1|   1|  D|   0|   1|  A|    J Moss|  6|  9|  2|  2| 17|  8|  4|  6|  2|  2|  0|  0|  3.3|  3.3| 2.25| 3.3|3.25| 2.3|3.25| 3.3|2.25|  3.4|3.29| 2.33| 3.3|3.25| 2.3| 3.4|3.3| 2.3|3.41| 3.4|2.35| 3.32|3.28|  2.3|     2.1|    1.72| 2.18| 1.76|   2.19|   1.78|   2.12|   1.74| 0.25|   1.93|    2.0|1.93| 2.0|  1.95|  2.02|  1.92|  1.97|  2.87|   3.3|  2.45| 3.0| 3.3|2.45| 3.1| 3.3|2.35| 2.98| 3.32| 2.56| 3.0|3.25|2.45| 3.0| 3.4|2.55| 3.24|  3.4| 2.61|  3.0| 3.29| 2.49|      2.1|     1.72|  2.17|  1.78|    2.21|    1.83|    2.12|    1.74| 0.25|    1.75|     2.2| 1.77| 2.19|   1.89|   2.25|   1.77|   2.15|\n",
            "+---+----------+-------------------+----------------+----------------+----+----+---+----+----+---+----------+---+---+---+---+---+---+---+---+---+---+---+---+-----+-----+-----+----+----+----+----+----+----+-----+----+-----+----+----+----+----+---+----+----+----+----+-----+----+-----+--------+--------+-----+-----+-------+-------+-------+-------+-----+-------+-------+----+----+------+------+------+------+------+------+------+----+----+----+----+----+----+-----+-----+-----+----+----+----+----+----+----+-----+-----+-----+-----+-----+-----+---------+---------+------+------+--------+--------+--------+--------+-----+--------+--------+-----+-----+-------+-------+-------+-------+\n",
            "only showing top 20 rows\n",
            "\n"
          ]
        }
      ]
    },
    {
      "cell_type": "code",
      "source": [
        "# Crear una nueva sesión de Spark\n",
        "spark = SparkSession.builder.appName(\"example\").config(\"spark.driver.extraClassPath\", \"/content/postgresql-42.2.23.jar\").getOrCreate()\n",
        "\n",
        "# DF\n",
        "matches_table = df.select(\"Div\", \"Date\", \"HomeTeam\", \"AwayTeam\", \"FTHG\", \"FTAG\", \"FTR\")\n",
        "\n",
        "# Guardar en la base de datos\n",
        "matches_table.write.jdbc(url=url, table=\"matches\", mode=\"overwrite\", properties=properties)\n",
        "\n"
      ],
      "metadata": {
        "id": "NNA-kbW5AB7Z"
      },
      "execution_count": null,
      "outputs": []
    },
    {
      "cell_type": "code",
      "source": [
        "    # Leer la tabla\n",
        "    matches_df = spark.read.jdbc(url=url, table=\"matches\", properties=properties)\n",
        "\n",
        "    matches_df.show()\n"
      ],
      "metadata": {
        "colab": {
          "base_uri": "https://localhost:8080/"
        },
        "id": "AchzZebhBo7M",
        "outputId": "0d5e2852-28f9-494b-a12c-ccdf20d5fc00"
      },
      "execution_count": 8,
      "outputs": [
        {
          "output_type": "stream",
          "name": "stdout",
          "text": [
            "+---+----------+----------------+----------------+----+----+---+\n",
            "|Div|      Date|        HomeTeam|        AwayTeam|FTHG|FTAG|FTR|\n",
            "+---+----------+----------------+----------------+----+----+---+\n",
            "| E0|09/08/2019|       Liverpool|         Norwich|   4|   1|  H|\n",
            "| E0|10/08/2019|        West Ham|        Man City|   0|   5|  A|\n",
            "| E0|10/08/2019|     Bournemouth|Sheffield United|   1|   1|  D|\n",
            "| E0|10/08/2019|         Burnley|     Southampton|   3|   0|  H|\n",
            "| E0|10/08/2019|  Crystal Palace|         Everton|   0|   0|  D|\n",
            "| E0|10/08/2019|         Watford|        Brighton|   0|   3|  A|\n",
            "| E0|10/08/2019|       Tottenham|     Aston Villa|   3|   1|  H|\n",
            "| E0|11/08/2019|       Leicester|          Wolves|   0|   0|  D|\n",
            "| E0|11/08/2019|       Newcastle|         Arsenal|   0|   1|  A|\n",
            "| E0|11/08/2019|      Man United|         Chelsea|   4|   0|  H|\n",
            "| E0|17/08/2019|         Arsenal|         Burnley|   2|   1|  H|\n",
            "| E0|17/08/2019|     Aston Villa|     Bournemouth|   1|   2|  A|\n",
            "| E0|17/08/2019|        Brighton|        West Ham|   1|   1|  D|\n",
            "| E0|17/08/2019|         Everton|         Watford|   1|   0|  H|\n",
            "| E0|17/08/2019|         Norwich|       Newcastle|   3|   1|  H|\n",
            "| E0|17/08/2019|     Southampton|       Liverpool|   1|   2|  A|\n",
            "| E0|17/08/2019|        Man City|       Tottenham|   2|   2|  D|\n",
            "| E0|18/08/2019|Sheffield United|  Crystal Palace|   1|   0|  H|\n",
            "| E0|18/08/2019|         Chelsea|       Leicester|   1|   1|  D|\n",
            "| E0|19/08/2019|          Wolves|      Man United|   1|   1|  D|\n",
            "+---+----------+----------------+----------------+----+----+---+\n",
            "only showing top 20 rows\n",
            "\n"
          ]
        }
      ]
    },
    {
      "cell_type": "code",
      "source": [
        "# Tu código actual para seleccionar las columnas\n",
        "general_stats_table = df.select(\"Div\", \"Date\", \"HomeTeam\", \"AwayTeam\", \"HS\", \"AS\", \"HST\", \"AST\", \"HF\", \"AF\")\n",
        "\n",
        "# Cambiar nombres de columnas\n",
        "nombres_columnas = {\n",
        "    \"Div\": \"Division\",\n",
        "    \"Date\": \"Fecha\",\n",
        "    \"HomeTeam\": \"EquipoLocal\",\n",
        "    \"AwayTeam\": \"EquipoVisitante\",\n",
        "    \"HS\": \"TirosLocal\",\n",
        "    \"AS\": \"TirosVisitante\",\n",
        "    \"HST\": \"TirosAlArcoLocal\",\n",
        "    \"AST\": \"TirosAlArcoVisitante\",\n",
        "    \"HF\": \"FaltasLocal\",\n",
        "    \"AF\": \"FaltasVisitante\"\n",
        "}\n",
        "\n",
        "# Aplicar alias a las columnas\n",
        "for antiguo_nombre, nuevo_nombre in nombres_columnas.items():\n",
        "    general_stats_table = general_stats_table.withColumnRenamed(antiguo_nombre, nuevo_nombre)\n",
        "\n",
        "# Escribir en la base de datos\n",
        "general_stats_table.write.jdbc(url=url, table=\"generalfc_stats\", mode=\"overwrite\", properties=properties)"
      ],
      "metadata": {
        "id": "EH2aE1FrB7f0"
      },
      "execution_count": 17,
      "outputs": []
    },
    {
      "cell_type": "code",
      "source": [
        "    # Leer la tabla\n",
        "    stats_df = spark.read.jdbc(url=url, table=\"generalfc_stats\", properties=properties)\n",
        "\n",
        "    stats_df.show()"
      ],
      "metadata": {
        "colab": {
          "base_uri": "https://localhost:8080/"
        },
        "id": "F9PeV1E_Cd4e",
        "outputId": "43da47f4-bc0d-4cfc-c194-bc0ad95b8bf8"
      },
      "execution_count": 18,
      "outputs": [
        {
          "output_type": "stream",
          "name": "stdout",
          "text": [
            "+--------+----------+----------------+----------------+----------+--------------+----------------+--------------------+-----------+---------------+\n",
            "|Division|     Fecha|     EquipoLocal| EquipoVisitante|TirosLocal|TirosVisitante|TirosAlArcoLocal|TirosAlArcoVisitante|FaltasLocal|FaltasVisitante|\n",
            "+--------+----------+----------------+----------------+----------+--------------+----------------+--------------------+-----------+---------------+\n",
            "|      E0|09/08/2019|       Liverpool|         Norwich|        15|            12|               7|                   5|          9|              9|\n",
            "|      E0|10/08/2019|        West Ham|        Man City|         5|            14|               3|                   9|          6|             13|\n",
            "|      E0|10/08/2019|     Bournemouth|Sheffield United|        13|             8|               3|                   3|         10|             19|\n",
            "|      E0|10/08/2019|         Burnley|     Southampton|        10|            11|               4|                   3|          6|             12|\n",
            "|      E0|10/08/2019|  Crystal Palace|         Everton|         6|            10|               2|                   3|         16|             14|\n",
            "|      E0|10/08/2019|         Watford|        Brighton|        11|             5|               3|                   3|         15|             11|\n",
            "|      E0|10/08/2019|       Tottenham|     Aston Villa|        31|             7|               7|                   4|         13|              9|\n",
            "|      E0|11/08/2019|       Leicester|          Wolves|        15|             8|               1|                   2|          3|             13|\n",
            "|      E0|11/08/2019|       Newcastle|         Arsenal|         9|             8|               2|                   2|         12|              7|\n",
            "|      E0|11/08/2019|      Man United|         Chelsea|        11|            18|               5|                   7|         15|             13|\n",
            "|      E0|17/08/2019|         Arsenal|         Burnley|        16|            18|               9|                   5|         13|             11|\n",
            "|      E0|17/08/2019|     Aston Villa|     Bournemouth|        22|            12|               7|                   4|         10|             13|\n",
            "|      E0|17/08/2019|        Brighton|        West Ham|        16|             8|               4|                   3|         11|             10|\n",
            "|      E0|17/08/2019|         Everton|         Watford|        12|             8|               2|                   2|         11|             11|\n",
            "|      E0|17/08/2019|         Norwich|       Newcastle|        15|            10|               8|                   3|          9|             11|\n",
            "|      E0|17/08/2019|     Southampton|       Liverpool|        14|            15|               3|                   6|         10|              6|\n",
            "|      E0|17/08/2019|        Man City|       Tottenham|        30|             3|              10|                   2|         14|              4|\n",
            "|      E0|18/08/2019|Sheffield United|  Crystal Palace|        15|             6|               3|                   4|         16|             11|\n",
            "|      E0|18/08/2019|         Chelsea|       Leicester|        14|            12|               5|                   3|          9|             14|\n",
            "|      E0|19/08/2019|          Wolves|      Man United|         6|             9|               2|                   2|         17|              8|\n",
            "+--------+----------+----------------+----------------+----------+--------------+----------------+--------------------+-----------+---------------+\n",
            "only showing top 20 rows\n",
            "\n"
          ]
        }
      ]
    },
    {
      "cell_type": "code",
      "source": [
        "# Tu código actual para seleccionar las columnas\n",
        "cards_table = df.select(\"Div\", \"Date\", \"HomeTeam\", \"AwayTeam\", \"HY\", \"AY\", \"HR\", \"AR\")\n",
        "\n",
        "# Cambiar nombres de columnas\n",
        "nombres_columnas_cards = {\n",
        "    \"Div\": \"Division\",\n",
        "    \"Date\": \"Fecha\",\n",
        "    \"HomeTeam\": \"EquipoLocal\",\n",
        "    \"AwayTeam\": \"EquipoVisitante\",\n",
        "    \"HY\": \"TarjetasAmarillasLocal\",\n",
        "    \"AY\": \"TarjetasAmarillasVisitante\",\n",
        "    \"HR\": \"TarjetasRojasLocal\",\n",
        "    \"AR\": \"TarjetasRojasVisitante\"\n",
        "}\n",
        "\n",
        "# Aplicar alias a las columnas\n",
        "for antiguo_nombre, nuevo_nombre in nombres_columnas_cards.items():\n",
        "    cards_table = cards_table.withColumnRenamed(antiguo_nombre, nuevo_nombre)\n",
        "\n",
        "# Escribir en la base de datos\n",
        "cards_table.write.jdbc(url=url, table=\"cards\", mode=\"overwrite\", properties=properties)"
      ],
      "metadata": {
        "id": "cwnAtLzZEVEF"
      },
      "execution_count": 19,
      "outputs": []
    },
    {
      "cell_type": "code",
      "source": [
        "    # Leer la tabla\n",
        "    cards_df = spark.read.jdbc(url=url, table=\"cards\", properties=properties)\n",
        "\n",
        "    cards_df.show()"
      ],
      "metadata": {
        "colab": {
          "base_uri": "https://localhost:8080/"
        },
        "id": "C4vanW7REYkb",
        "outputId": "64c7f068-301e-4cb7-cab8-a5841fc3e45a"
      },
      "execution_count": 20,
      "outputs": [
        {
          "output_type": "stream",
          "name": "stdout",
          "text": [
            "+--------+----------+----------------+----------------+----------------------+--------------------------+------------------+----------------------+\n",
            "|Division|     Fecha|     EquipoLocal| EquipoVisitante|TarjetasAmarillasLocal|TarjetasAmarillasVisitante|TarjetasRojasLocal|TarjetasRojasVisitante|\n",
            "+--------+----------+----------------+----------------+----------------------+--------------------------+------------------+----------------------+\n",
            "|      E0|09/08/2019|       Liverpool|         Norwich|                     0|                         2|                 0|                     0|\n",
            "|      E0|10/08/2019|        West Ham|        Man City|                     2|                         2|                 0|                     0|\n",
            "|      E0|10/08/2019|     Bournemouth|Sheffield United|                     2|                         1|                 0|                     0|\n",
            "|      E0|10/08/2019|         Burnley|     Southampton|                     0|                         0|                 0|                     0|\n",
            "|      E0|10/08/2019|  Crystal Palace|         Everton|                     2|                         1|                 0|                     1|\n",
            "|      E0|10/08/2019|         Watford|        Brighton|                     0|                         1|                 0|                     0|\n",
            "|      E0|10/08/2019|       Tottenham|     Aston Villa|                     1|                         0|                 0|                     0|\n",
            "|      E0|11/08/2019|       Leicester|          Wolves|                     0|                         2|                 0|                     0|\n",
            "|      E0|11/08/2019|       Newcastle|         Arsenal|                     1|                         3|                 0|                     0|\n",
            "|      E0|11/08/2019|      Man United|         Chelsea|                     3|                         4|                 0|                     0|\n",
            "|      E0|17/08/2019|         Arsenal|         Burnley|                     2|                         1|                 0|                     0|\n",
            "|      E0|17/08/2019|     Aston Villa|     Bournemouth|                     0|                         2|                 0|                     0|\n",
            "|      E0|17/08/2019|        Brighton|        West Ham|                     0|                         2|                 0|                     0|\n",
            "|      E0|17/08/2019|         Everton|         Watford|                     2|                         3|                 0|                     0|\n",
            "|      E0|17/08/2019|         Norwich|       Newcastle|                     1|                         3|                 0|                     0|\n",
            "|      E0|17/08/2019|     Southampton|       Liverpool|                     2|                         1|                 0|                     0|\n",
            "|      E0|17/08/2019|        Man City|       Tottenham|                     1|                         0|                 0|                     0|\n",
            "|      E0|18/08/2019|Sheffield United|  Crystal Palace|                     3|                         1|                 0|                     0|\n",
            "|      E0|18/08/2019|         Chelsea|       Leicester|                     1|                         0|                 0|                     0|\n",
            "|      E0|19/08/2019|          Wolves|      Man United|                     2|                         2|                 0|                     0|\n",
            "+--------+----------+----------------+----------------+----------------------+--------------------------+------------------+----------------------+\n",
            "only showing top 20 rows\n",
            "\n"
          ]
        }
      ]
    },
    {
      "cell_type": "code",
      "source": [
        "corners_table = df.select(\"Div\", \"Date\", \"HomeTeam\", \"AwayTeam\", \"HC\", \"AC\")\n",
        "\n",
        "# Cambiar nombres de columnas\n",
        "nombres_columnas_corners = {\n",
        "    \"Div\": \"Division\",\n",
        "    \"Date\": \"Fecha\",\n",
        "    \"HomeTeam\": \"EquipoLocal\",\n",
        "    \"AwayTeam\": \"EquipoVisitante\",\n",
        "    \"HC\": \"CornersLocal\",\n",
        "    \"AC\": \"CornersVisitante\"\n",
        "}\n",
        "\n",
        "# Aplicar alias a las columnas\n",
        "for antiguo_nombre, nuevo_nombre in nombres_columnas_corners.items():\n",
        "    corners_table = corners_table.withColumnRenamed(antiguo_nombre, nuevo_nombre)\n",
        "\n",
        "\n",
        "# Escribir en la base de datos\n",
        "corners_table.write.jdbc(url=url, table=\"corners\", mode=\"overwrite\", properties=properties)"
      ],
      "metadata": {
        "id": "hKuM4PXvFeI0"
      },
      "execution_count": 23,
      "outputs": []
    },
    {
      "cell_type": "code",
      "source": [
        "    # Leer la tabla\n",
        "    corner_df = spark.read.jdbc(url=url, table=\"corners\", properties=properties)\n",
        "\n",
        "    corner_df.show()"
      ],
      "metadata": {
        "colab": {
          "base_uri": "https://localhost:8080/"
        },
        "id": "rt4BlCjsFk9s",
        "outputId": "b6a2b43e-6a11-4449-8217-571300516d90"
      },
      "execution_count": 24,
      "outputs": [
        {
          "output_type": "stream",
          "name": "stdout",
          "text": [
            "+--------+----------+----------------+----------------+------------+----------------+\n",
            "|Division|     Fecha|     EquipoLocal| EquipoVisitante|CornersLocal|CornersVisitante|\n",
            "+--------+----------+----------------+----------------+------------+----------------+\n",
            "|      E0|09/08/2019|       Liverpool|         Norwich|          11|               2|\n",
            "|      E0|10/08/2019|        West Ham|        Man City|           1|               1|\n",
            "|      E0|10/08/2019|     Bournemouth|Sheffield United|           3|               4|\n",
            "|      E0|10/08/2019|         Burnley|     Southampton|           2|               7|\n",
            "|      E0|10/08/2019|  Crystal Palace|         Everton|           6|               2|\n",
            "|      E0|10/08/2019|         Watford|        Brighton|           5|               2|\n",
            "|      E0|10/08/2019|       Tottenham|     Aston Villa|          14|               0|\n",
            "|      E0|11/08/2019|       Leicester|          Wolves|          12|               3|\n",
            "|      E0|11/08/2019|       Newcastle|         Arsenal|           5|               3|\n",
            "|      E0|11/08/2019|      Man United|         Chelsea|           3|               5|\n",
            "|      E0|17/08/2019|         Arsenal|         Burnley|          10|               7|\n",
            "|      E0|17/08/2019|     Aston Villa|     Bournemouth|          10|               5|\n",
            "|      E0|17/08/2019|        Brighton|        West Ham|           8|               6|\n",
            "|      E0|17/08/2019|         Everton|         Watford|           4|               7|\n",
            "|      E0|17/08/2019|         Norwich|       Newcastle|           7|               5|\n",
            "|      E0|17/08/2019|     Southampton|       Liverpool|           5|               9|\n",
            "|      E0|17/08/2019|        Man City|       Tottenham|          13|               2|\n",
            "|      E0|18/08/2019|Sheffield United|  Crystal Palace|           8|               4|\n",
            "|      E0|18/08/2019|         Chelsea|       Leicester|           4|               5|\n",
            "|      E0|19/08/2019|          Wolves|      Man United|           4|               6|\n",
            "+--------+----------+----------------+----------------+------------+----------------+\n",
            "only showing top 20 rows\n",
            "\n"
          ]
        }
      ]
    },
    {
      "cell_type": "code",
      "source": [
        "half_time_results_table = df.select(\"Div\", \"Date\", \"HomeTeam\", \"AwayTeam\", \"HTHG\", \"HTAG\", \"HTR\")\n",
        "\n",
        "# Cambiar nombres de columnas\n",
        "nombres_columnas_half_time_results = {\n",
        "    \"Div\": \"Division\",\n",
        "    \"Date\": \"Fecha\",\n",
        "    \"HomeTeam\": \"EquipoLocal\",\n",
        "    \"AwayTeam\": \"EquipoVisitante\",\n",
        "    \"HTHG\": \"GolesMedioTiempoLocal\",\n",
        "    \"HTAG\": \"GolesMedioTiempoVisitante\",\n",
        "    \"HTR\": \"ResultadoMedioTiempo\"\n",
        "}\n",
        "\n",
        "# Aplicar alias a las columnas\n",
        "for antiguo_nombre, nuevo_nombre in nombres_columnas_half_time_results.items():\n",
        "    half_time_results_table = half_time_results_table.withColumnRenamed(antiguo_nombre, nuevo_nombre)\n",
        "\n",
        "# Escribir en la base de datos\n",
        "half_time_results_table.write.jdbc(url=url, table=\"half_time_results\", mode=\"overwrite\", properties=properties)"
      ],
      "metadata": {
        "id": "swGR1kjVGZgk"
      },
      "execution_count": 25,
      "outputs": []
    },
    {
      "cell_type": "code",
      "source": [
        "    # Leer la tabla\n",
        "    half_time_df = spark.read.jdbc(url=url, table=\"half_time_results\", properties=properties)\n",
        "\n",
        "    half_time_df.show()"
      ],
      "metadata": {
        "colab": {
          "base_uri": "https://localhost:8080/"
        },
        "id": "_mQ5dT5JGZsI",
        "outputId": "11a8c9a0-56c3-4234-e10e-e49977130e36"
      },
      "execution_count": 26,
      "outputs": [
        {
          "output_type": "stream",
          "name": "stdout",
          "text": [
            "+--------+----------+----------------+----------------+---------------------+-------------------------+--------------------+\n",
            "|Division|     Fecha|     EquipoLocal| EquipoVisitante|GolesMedioTiempoLocal|GolesMedioTiempoVisitante|ResultadoMedioTiempo|\n",
            "+--------+----------+----------------+----------------+---------------------+-------------------------+--------------------+\n",
            "|      E0|09/08/2019|       Liverpool|         Norwich|                    4|                        0|                   H|\n",
            "|      E0|10/08/2019|        West Ham|        Man City|                    0|                        1|                   A|\n",
            "|      E0|10/08/2019|     Bournemouth|Sheffield United|                    0|                        0|                   D|\n",
            "|      E0|10/08/2019|         Burnley|     Southampton|                    0|                        0|                   D|\n",
            "|      E0|10/08/2019|  Crystal Palace|         Everton|                    0|                        0|                   D|\n",
            "|      E0|10/08/2019|         Watford|        Brighton|                    0|                        1|                   A|\n",
            "|      E0|10/08/2019|       Tottenham|     Aston Villa|                    0|                        1|                   A|\n",
            "|      E0|11/08/2019|       Leicester|          Wolves|                    0|                        0|                   D|\n",
            "|      E0|11/08/2019|       Newcastle|         Arsenal|                    0|                        0|                   D|\n",
            "|      E0|11/08/2019|      Man United|         Chelsea|                    1|                        0|                   H|\n",
            "|      E0|17/08/2019|         Arsenal|         Burnley|                    1|                        1|                   D|\n",
            "|      E0|17/08/2019|     Aston Villa|     Bournemouth|                    0|                        2|                   A|\n",
            "|      E0|17/08/2019|        Brighton|        West Ham|                    0|                        0|                   D|\n",
            "|      E0|17/08/2019|         Everton|         Watford|                    1|                        0|                   H|\n",
            "|      E0|17/08/2019|         Norwich|       Newcastle|                    1|                        0|                   H|\n",
            "|      E0|17/08/2019|     Southampton|       Liverpool|                    0|                        1|                   A|\n",
            "|      E0|17/08/2019|        Man City|       Tottenham|                    2|                        1|                   H|\n",
            "|      E0|18/08/2019|Sheffield United|  Crystal Palace|                    0|                        0|                   D|\n",
            "|      E0|18/08/2019|         Chelsea|       Leicester|                    1|                        0|                   H|\n",
            "|      E0|19/08/2019|          Wolves|      Man United|                    0|                        1|                   A|\n",
            "+--------+----------+----------------+----------------+---------------------+-------------------------+--------------------+\n",
            "only showing top 20 rows\n",
            "\n"
          ]
        }
      ]
    },
    {
      "cell_type": "code",
      "source": [
        "betting_odds_table = df.select(\"Div\", \"Date\", \"HomeTeam\", \"AwayTeam\", \"B365H\", \"B365D\", \"B365A\")\n",
        "\n",
        "# Cambiar nombres de columnas\n",
        "nombres_columnas_betting_odds = {\n",
        "    \"Div\": \"Division\",\n",
        "    \"Date\": \"Fecha\",\n",
        "    \"HomeTeam\": \"EquipoLocal\",\n",
        "    \"AwayTeam\": \"EquipoVisitante\",\n",
        "    \"B365H\": \"CuotaVictoriaLocal\",\n",
        "    \"B365D\": \"CuotaEmpate\",\n",
        "    \"B365A\": \"CuotaVictoriaVisitante\"\n",
        "}\n",
        "\n",
        "# Aplicar alias a las columnas\n",
        "for antiguo_nombre, nuevo_nombre in nombres_columnas_betting_odds.items():\n",
        "    betting_odds_table = betting_odds_table.withColumnRenamed(antiguo_nombre, nuevo_nombre)\n",
        "\n",
        "# Escribir en la base de datos\n",
        "betting_odds_table.write.jdbc(url=url, table=\"betting_odds\", mode=\"overwrite\", properties=properties)"
      ],
      "metadata": {
        "id": "dPFZezWoHKh_"
      },
      "execution_count": 27,
      "outputs": []
    },
    {
      "cell_type": "code",
      "source": [
        "    # Leer la tabla\n",
        "    betting_odds_df = spark.read.jdbc(url=url, table=\"betting_odds\", properties=properties)\n",
        "\n",
        "    betting_odds_df.show()"
      ],
      "metadata": {
        "colab": {
          "base_uri": "https://localhost:8080/"
        },
        "id": "VEP_Mh-lHL6C",
        "outputId": "fcba5bc0-4f29-4bb1-c75f-c478bbb2a5c3"
      },
      "execution_count": 28,
      "outputs": [
        {
          "output_type": "stream",
          "name": "stdout",
          "text": [
            "+--------+----------+----------------+----------------+------------------+-----------+----------------------+\n",
            "|Division|     Fecha|     EquipoLocal| EquipoVisitante|CuotaVictoriaLocal|CuotaEmpate|CuotaVictoriaVisitante|\n",
            "+--------+----------+----------------+----------------+------------------+-----------+----------------------+\n",
            "|      E0|09/08/2019|       Liverpool|         Norwich|              1.14|       10.0|                  19.0|\n",
            "|      E0|10/08/2019|        West Ham|        Man City|              12.0|        6.5|                  1.22|\n",
            "|      E0|10/08/2019|     Bournemouth|Sheffield United|              1.95|        3.6|                   3.6|\n",
            "|      E0|10/08/2019|         Burnley|     Southampton|              2.62|        3.2|                  2.75|\n",
            "|      E0|10/08/2019|  Crystal Palace|         Everton|               3.0|       3.25|                  2.37|\n",
            "|      E0|10/08/2019|         Watford|        Brighton|               1.9|        3.4|                   4.0|\n",
            "|      E0|10/08/2019|       Tottenham|     Aston Villa|               1.3|       5.25|                  10.0|\n",
            "|      E0|11/08/2019|       Leicester|          Wolves|               2.2|        3.2|                   3.4|\n",
            "|      E0|11/08/2019|       Newcastle|         Arsenal|               4.5|       3.75|                  1.72|\n",
            "|      E0|11/08/2019|      Man United|         Chelsea|               2.1|        3.3|                   3.5|\n",
            "|      E0|17/08/2019|         Arsenal|         Burnley|               1.3|        5.5|                  10.0|\n",
            "|      E0|17/08/2019|     Aston Villa|     Bournemouth|               2.3|        3.4|                   3.1|\n",
            "|      E0|17/08/2019|        Brighton|        West Ham|              2.55|       3.25|                  2.87|\n",
            "|      E0|17/08/2019|         Everton|         Watford|              1.72|        3.8|                  4.75|\n",
            "|      E0|17/08/2019|         Norwich|       Newcastle|              2.25|        3.3|                   3.3|\n",
            "|      E0|17/08/2019|     Southampton|       Liverpool|               6.5|       4.75|                  1.44|\n",
            "|      E0|17/08/2019|        Man City|       Tottenham|              1.36|       5.25|                   8.0|\n",
            "|      E0|18/08/2019|Sheffield United|  Crystal Palace|              2.55|        3.1|                   2.9|\n",
            "|      E0|18/08/2019|         Chelsea|       Leicester|               1.7|       3.75|                   5.0|\n",
            "|      E0|19/08/2019|          Wolves|      Man United|               3.3|        3.3|                  2.25|\n",
            "+--------+----------+----------------+----------------+------------------+-----------+----------------------+\n",
            "only showing top 20 rows\n",
            "\n"
          ]
        }
      ]
    },
    {
      "cell_type": "code",
      "source": [
        "shots_on_target_table = df.select(\"Div\", \"Date\", \"HomeTeam\", \"AwayTeam\", \"HST\", \"AST\")\n",
        "\n",
        "# Cambiar nombres de columnas\n",
        "nombres_columnas_shots_on_target = {\n",
        "    \"Div\": \"Division\",\n",
        "    \"Date\": \"Fecha\",\n",
        "    \"HomeTeam\": \"EquipoLocal\",\n",
        "    \"AwayTeam\": \"EquipoVisitante\",\n",
        "    \"HST\": \"TirosAlArcoLocal\",\n",
        "    \"AST\": \"TirosAlArcoVisitante\"\n",
        "}\n",
        "\n",
        "# Aplicar alias a las columnas\n",
        "for antiguo_nombre, nuevo_nombre in nombres_columnas_shots_on_target.items():\n",
        "    shots_on_target_table = shots_on_target_table.withColumnRenamed(antiguo_nombre, nuevo_nombre)\n",
        "\n",
        "# Escribir en la base de datos\n",
        "shots_on_target_table.write.jdbc(url=url, table=\"shots_on_target\", mode=\"overwrite\", properties=properties)"
      ],
      "metadata": {
        "id": "P7O1PpuaIMg4"
      },
      "execution_count": 29,
      "outputs": []
    },
    {
      "cell_type": "code",
      "source": [
        "    # Leer la tabla\n",
        "    shots_target_df = spark.read.jdbc(url=url, table=\"shots_on_target\", properties=properties)\n",
        "\n",
        "    shots_target_df.show()"
      ],
      "metadata": {
        "colab": {
          "base_uri": "https://localhost:8080/"
        },
        "id": "DdPdhzlFINCK",
        "outputId": "fd726ff9-8589-496c-824f-202f7377765f"
      },
      "execution_count": 30,
      "outputs": [
        {
          "output_type": "stream",
          "name": "stdout",
          "text": [
            "+--------+----------+----------------+----------------+----------------+--------------------+\n",
            "|Division|     Fecha|     EquipoLocal| EquipoVisitante|TirosAlArcoLocal|TirosAlArcoVisitante|\n",
            "+--------+----------+----------------+----------------+----------------+--------------------+\n",
            "|      E0|09/08/2019|       Liverpool|         Norwich|               7|                   5|\n",
            "|      E0|10/08/2019|        West Ham|        Man City|               3|                   9|\n",
            "|      E0|10/08/2019|     Bournemouth|Sheffield United|               3|                   3|\n",
            "|      E0|10/08/2019|         Burnley|     Southampton|               4|                   3|\n",
            "|      E0|10/08/2019|  Crystal Palace|         Everton|               2|                   3|\n",
            "|      E0|10/08/2019|         Watford|        Brighton|               3|                   3|\n",
            "|      E0|10/08/2019|       Tottenham|     Aston Villa|               7|                   4|\n",
            "|      E0|11/08/2019|       Leicester|          Wolves|               1|                   2|\n",
            "|      E0|11/08/2019|       Newcastle|         Arsenal|               2|                   2|\n",
            "|      E0|11/08/2019|      Man United|         Chelsea|               5|                   7|\n",
            "|      E0|17/08/2019|         Arsenal|         Burnley|               9|                   5|\n",
            "|      E0|17/08/2019|     Aston Villa|     Bournemouth|               7|                   4|\n",
            "|      E0|17/08/2019|        Brighton|        West Ham|               4|                   3|\n",
            "|      E0|17/08/2019|         Everton|         Watford|               2|                   2|\n",
            "|      E0|17/08/2019|         Norwich|       Newcastle|               8|                   3|\n",
            "|      E0|17/08/2019|     Southampton|       Liverpool|               3|                   6|\n",
            "|      E0|17/08/2019|        Man City|       Tottenham|              10|                   2|\n",
            "|      E0|18/08/2019|Sheffield United|  Crystal Palace|               3|                   4|\n",
            "|      E0|18/08/2019|         Chelsea|       Leicester|               5|                   3|\n",
            "|      E0|19/08/2019|          Wolves|      Man United|               2|                   2|\n",
            "+--------+----------+----------------+----------------+----------------+--------------------+\n",
            "only showing top 20 rows\n",
            "\n"
          ]
        }
      ]
    },
    {
      "cell_type": "code",
      "source": [
        "alternative_betting_odds_table = df.select(\n",
        "    \"Div\", \"Date\", \"HomeTeam\", \"AwayTeam\", \"BWH\", \"BWD\", \"BWA\", \"IWH\", \"IWD\", \"IWA\", \"WHH\", \"WHD\", \"WHA\"\n",
        ")\n",
        "\n",
        "# Cambiar nombres de columnas\n",
        "nombres_columnas_alternative_betting_odds = {\n",
        "    \"Div\": \"Division\",\n",
        "    \"Date\": \"Fecha\",\n",
        "    \"HomeTeam\": \"EquipoLocal\",\n",
        "    \"AwayTeam\": \"EquipoVisitante\",\n",
        "    \"BWH\": \"CuotaVictoriaLocalBetandWin\",\n",
        "    \"BWD\": \"CuotaEmpateBetandWin\",\n",
        "    \"BWA\": \"CuotaVictoriaVisitanteBetandWin\",\n",
        "    \"IWH\": \"CuotaVictoriaLocalInterwetten\",\n",
        "    \"IWD\": \"CuotaEmpateInterwetten\",\n",
        "    \"IWA\": \"CuotaVictoriaVisitanteInterwetten\",\n",
        "    \"WHH\": \"CuotaVictoriaLocalWilliamHill\",\n",
        "    \"WHD\": \"CuotaEmpateWilliamHill\",\n",
        "    \"WHA\": \"CuotaVictoriaVisitanteWilliamHill\"\n",
        "}\n",
        "\n",
        "# Aplicar alias a las columnas\n",
        "for antiguo_nombre, nuevo_nombre in nombres_columnas_alternative_betting_odds.items():\n",
        "    alternative_betting_odds_table = alternative_betting_odds_table.withColumnRenamed(antiguo_nombre, nuevo_nombre)\n",
        "\n",
        "# Escribir en la base de datos\n",
        "alternative_betting_odds_table.write.jdbc(url=url, table=\"alternative_betting_odds\", mode=\"overwrite\", properties=properties)"
      ],
      "metadata": {
        "id": "a28fceVMJTo9"
      },
      "execution_count": 31,
      "outputs": []
    },
    {
      "cell_type": "code",
      "source": [
        "    # Leer la tabla\n",
        "    alternative_odds_df = spark.read.jdbc(url=url, table=\"alternative_betting_odds\", properties=properties)\n",
        "\n",
        "    alternative_odds_df.show()"
      ],
      "metadata": {
        "colab": {
          "base_uri": "https://localhost:8080/"
        },
        "id": "hBmhKrS-JUXL",
        "outputId": "50bd8d56-a59f-48e6-fddb-05dc4cb4b277"
      },
      "execution_count": 32,
      "outputs": [
        {
          "output_type": "stream",
          "name": "stdout",
          "text": [
            "+--------+----------+----------------+----------------+---------------------------+--------------------+-------------------------------+-----------------------------+----------------------+---------------------------------+-----------------------------+----------------------+---------------------------------+\n",
            "|Division|     Fecha|     EquipoLocal| EquipoVisitante|CuotaVictoriaLocalBetandWin|CuotaEmpateBetandWin|CuotaVictoriaVisitanteBetandWin|CuotaVictoriaLocalInterwetten|CuotaEmpateInterwetten|CuotaVictoriaVisitanteInterwetten|CuotaVictoriaLocalWilliamHill|CuotaEmpateWilliamHill|CuotaVictoriaVisitanteWilliamHill|\n",
            "+--------+----------+----------------+----------------+---------------------------+--------------------+-------------------------------+-----------------------------+----------------------+---------------------------------+-----------------------------+----------------------+---------------------------------+\n",
            "|      E0|09/08/2019|       Liverpool|         Norwich|                       1.14|                8.25|                           18.5|                         1.15|                   8.0|                             18.0|                         1.12|                   8.5|                             21.0|\n",
            "|      E0|10/08/2019|        West Ham|        Man City|                       11.5|                5.75|                           1.26|                         11.0|                   6.1|                             1.25|                         13.0|                   6.0|                             1.24|\n",
            "|      E0|10/08/2019|     Bournemouth|Sheffield United|                       1.95|                 3.6|                            3.9|                         1.97|                  3.55|                              3.8|                          2.0|                   3.5|                              3.8|\n",
            "|      E0|10/08/2019|         Burnley|     Southampton|                       2.65|                 3.2|                           2.75|                         2.65|                   3.2|                             2.75|                          2.7|                   3.2|                             2.75|\n",
            "|      E0|10/08/2019|  Crystal Palace|         Everton|                        3.2|                 3.2|                           2.35|                          3.1|                   3.2|                              2.4|                          3.1|                   3.3|                             2.35|\n",
            "|      E0|10/08/2019|         Watford|        Brighton|                        1.9|                 3.4|                           4.33|                         1.93|                   3.4|                             4.25|                         1.95|                   3.4|                              4.2|\n",
            "|      E0|10/08/2019|       Tottenham|     Aston Villa|                        1.3|                 5.5|                           10.0|                          1.3|                   5.5|                              9.6|                         1.29|                   5.5|                             10.0|\n",
            "|      E0|11/08/2019|       Leicester|          Wolves|                       2.25|                 3.3|                            3.3|                          2.2|                  3.25|                             3.45|                          2.2|                  3.25|                              3.5|\n",
            "|      E0|11/08/2019|       Newcastle|         Arsenal|                        4.5|                3.75|                           1.78|                          4.4|                  3.85|                             1.77|                          4.5|                  3.75|                             1.78|\n",
            "|      E0|11/08/2019|      Man United|         Chelsea|                       2.15|                 3.3|                            3.5|                         2.15|                  3.35|                              3.4|                         2.15|                   3.3|                              3.5|\n",
            "|      E0|17/08/2019|         Arsenal|         Burnley|                        1.3|                 5.5|                           10.0|                          1.3|                   5.6|                              9.5|                         1.32|                  5.25|                             10.0|\n",
            "|      E0|17/08/2019|     Aston Villa|     Bournemouth|                       2.25|                 3.5|                            3.1|                          2.3|                  3.45|                             3.05|                         2.25|                   3.5|                              3.1|\n",
            "|      E0|17/08/2019|        Brighton|        West Ham|                        2.5|                 3.3|                            2.9|                          2.5|                   3.3|                             2.85|                          2.5|                   3.3|                             2.88|\n",
            "|      E0|17/08/2019|         Everton|         Watford|                       1.67|                 4.0|                            5.0|                          1.7|                   3.9|                             4.65|                         1.73|                   3.8|                              4.8|\n",
            "|      E0|17/08/2019|         Norwich|       Newcastle|                       2.25|                 3.3|                            3.3|                          2.2|                  3.35|                             3.35|                         2.15|                   3.4|                              3.4|\n",
            "|      E0|17/08/2019|     Southampton|       Liverpool|                       6.25|                4.75|                           1.48|                          7.5|                   4.8|                              1.4|                          7.0|                   4.6|                             1.44|\n",
            "|      E0|17/08/2019|        Man City|       Tottenham|                       1.35|                 5.5|                           7.75|                         1.35|                   5.3|                              8.0|                         1.35|                  5.25|                              8.5|\n",
            "|      E0|18/08/2019|Sheffield United|  Crystal Palace|                       2.55|                 3.2|                            2.9|                         2.55|                   3.1|                             2.95|                         2.55|                   3.2|                              2.9|\n",
            "|      E0|18/08/2019|         Chelsea|       Leicester|                       1.72|                 3.7|                            5.0|                         1.73|                  3.75|                              4.9|                          1.7|                   3.7|                             5.25|\n",
            "|      E0|19/08/2019|          Wolves|      Man United|                        3.3|                3.25|                            2.3|                         3.25|                   3.3|                             2.25|                          3.3|                  3.25|                              2.3|\n",
            "+--------+----------+----------------+----------------+---------------------------+--------------------+-------------------------------+-----------------------------+----------------------+---------------------------------+-----------------------------+----------------------+---------------------------------+\n",
            "only showing top 20 rows\n",
            "\n"
          ]
        }
      ]
    },
    {
      "cell_type": "code",
      "source": [
        "referee_stats_table = df.select(\"Div\", \"Date\", \"Referee\", \"HS\", \"AS\", \"HST\", \"AST\", \"HF\", \"AF\", \"HC\", \"AC\", \"HY\", \"AY\", \"HR\", \"AR\")\n",
        "\n",
        "# Cambiar nombres de columnas\n",
        "nombres_columnas_referee_stats = {\n",
        "    \"Div\": \"Division\",\n",
        "    \"Date\": \"Fecha\",\n",
        "    \"Referee\": \"Arbitro\",\n",
        "    \"HS\": \"TirosLocal\",\n",
        "    \"AS\": \"TirosVisitante\",\n",
        "    \"HST\": \"TirosAlArcoLocal\",\n",
        "    \"AST\": \"TirosAlArcoVisitante\",\n",
        "    \"HF\": \"FaltasLocal\",\n",
        "    \"AF\": \"FaltasVisitante\",\n",
        "    \"HC\": \"CornesLocal\",\n",
        "    \"AC\": \"CornesVisitante\",\n",
        "    \"HY\": \"TarjetasAmarillasLocal\",\n",
        "    \"AY\": \"TarjetasAmarillasVisitante\",\n",
        "    \"HR\": \"TarjetasRojasLocal\",\n",
        "    \"AR\": \"TarjetasRojasVisitante\"\n",
        "}\n",
        "\n",
        "# Renombrar columnas\n",
        "for antiguo_nombre, nuevo_nombre in nombres_columnas_referee_stats.items():\n",
        "    referee_stats_table = referee_stats_table.withColumnRenamed(antiguo_nombre, nuevo_nombre)\n",
        "\n",
        "# Escribir en la base de datos\n",
        "referee_stats_table.write.jdbc(url=url, table=\"referee_fcstats\", mode=\"overwrite\", properties=properties)"
      ],
      "metadata": {
        "id": "PtN1_RXZSIEQ"
      },
      "execution_count": 36,
      "outputs": []
    },
    {
      "cell_type": "code",
      "source": [
        "    # Leer la tabla\n",
        "    referee_df = spark.read.jdbc(url=url, table=\"referee_fcstats\", properties=properties)\n",
        "\n",
        "    referee_df.show()"
      ],
      "metadata": {
        "colab": {
          "base_uri": "https://localhost:8080/"
        },
        "id": "DqzM49S7SMAj",
        "outputId": "5b3cc7df-1c7b-42e2-f30f-97d46e2abf73"
      },
      "execution_count": 37,
      "outputs": [
        {
          "output_type": "stream",
          "name": "stdout",
          "text": [
            "+--------+----------+----------+----------+--------------+----------------+--------------------+-----------+---------------+-----------+---------------+----------------------+--------------------------+------------------+----------------------+\n",
            "|Division|     Fecha|   Arbitro|TirosLocal|TirosVisitante|TirosAlArcoLocal|TirosAlArcoVisitante|FaltasLocal|FaltasVisitante|CornesLocal|CornesVisitante|TarjetasAmarillasLocal|TarjetasAmarillasVisitante|TarjetasRojasLocal|TarjetasRojasVisitante|\n",
            "+--------+----------+----------+----------+--------------+----------------+--------------------+-----------+---------------+-----------+---------------+----------------------+--------------------------+------------------+----------------------+\n",
            "|      E0|09/08/2019|  M Oliver|        15|            12|               7|                   5|          9|              9|         11|              2|                     0|                         2|                 0|                     0|\n",
            "|      E0|10/08/2019|    M Dean|         5|            14|               3|                   9|          6|             13|          1|              1|                     2|                         2|                 0|                     0|\n",
            "|      E0|10/08/2019|  K Friend|        13|             8|               3|                   3|         10|             19|          3|              4|                     2|                         1|                 0|                     0|\n",
            "|      E0|10/08/2019|   G Scott|        10|            11|               4|                   3|          6|             12|          2|              7|                     0|                         0|                 0|                     0|\n",
            "|      E0|10/08/2019|    J Moss|         6|            10|               2|                   3|         16|             14|          6|              2|                     2|                         1|                 0|                     1|\n",
            "|      E0|10/08/2019|  C Pawson|        11|             5|               3|                   3|         15|             11|          5|              2|                     0|                         1|                 0|                     0|\n",
            "|      E0|10/08/2019|C Kavanagh|        31|             7|               7|                   4|         13|              9|         14|              0|                     1|                         0|                 0|                     0|\n",
            "|      E0|11/08/2019|A Marriner|        15|             8|               1|                   2|          3|             13|         12|              3|                     0|                         2|                 0|                     0|\n",
            "|      E0|11/08/2019|M Atkinson|         9|             8|               2|                   2|         12|              7|          5|              3|                     1|                         3|                 0|                     0|\n",
            "|      E0|11/08/2019|  A Taylor|        11|            18|               5|                   7|         15|             13|          3|              5|                     3|                         4|                 0|                     0|\n",
            "|      E0|17/08/2019|    M Dean|        16|            18|               9|                   5|         13|             11|         10|              7|                     2|                         1|                 0|                     0|\n",
            "|      E0|17/08/2019|M Atkinson|        22|            12|               7|                   4|         10|             13|         10|              5|                     0|                         2|                 0|                     0|\n",
            "|      E0|17/08/2019|  A Taylor|        16|             8|               4|                   3|         11|             10|          8|              6|                     0|                         2|                 0|                     0|\n",
            "|      E0|17/08/2019|   L Mason|        12|             8|               2|                   2|         11|             11|          4|              7|                     2|                         3|                 0|                     0|\n",
            "|      E0|17/08/2019| S Attwell|        15|            10|               8|                   3|          9|             11|          7|              5|                     1|                         3|                 0|                     0|\n",
            "|      E0|17/08/2019|A Marriner|        14|            15|               3|                   6|         10|              6|          5|              9|                     2|                         1|                 0|                     0|\n",
            "|      E0|17/08/2019|  M Oliver|        30|             3|              10|                   2|         14|              4|         13|              2|                     1|                         0|                 0|                     0|\n",
            "|      E0|18/08/2019|   D Coote|        15|             6|               3|                   4|         16|             11|          8|              4|                     3|                         1|                 0|                     0|\n",
            "|      E0|18/08/2019|O Langford|        14|            12|               5|                   3|          9|             14|          4|              5|                     1|                         0|                 0|                     0|\n",
            "|      E0|19/08/2019|    J Moss|         6|             9|               2|                   2|         17|              8|          4|              6|                     2|                         2|                 0|                     0|\n",
            "+--------+----------+----------+----------+--------------+----------------+--------------------+-----------+---------------+-----------+---------------+----------------------+--------------------------+------------------+----------------------+\n",
            "only showing top 20 rows\n",
            "\n"
          ]
        }
      ]
    },
    {
      "cell_type": "code",
      "source": [
        "    # Definir las tablas bidimensionales\n",
        "    matches_table = premier_df.select(\"Div\", \"Date\", \"HomeTeam\", \"AwayTeam\", \"FTHG\", \"FTAG\", \"FTR\")\n",
        "    general_stats_table = premier_df.select(\"Div\", \"Date\", \"HomeTeam\", \"AwayTeam\", \"HS\", \"AS\", \"HST\", \"AST\", \"HF\", \"AF\")\n",
        "    cards_table = premier_df.select(\"Div\", \"Date\", \"HomeTeam\", \"AwayTeam\", \"HY\", \"AY\", \"HR\", \"AR\")\n",
        "    corners_table = premier_df.select(\"Div\", \"Date\", \"HomeTeam\", \"AwayTeam\", \"HC\", \"AC\")\n",
        "    half_time_results_table = premier_df.select(\"Div\", \"Date\", \"HomeTeam\", \"AwayTeam\", \"HTHG\", \"HTAG\", \"HTR\")\n",
        "    betting_odds_table = premier_df.select(\"Div\", \"Date\", \"HomeTeam\", \"AwayTeam\", \"B365H\", \"B365D\", \"B365A\")\n",
        "    shots_on_target_table = premier_df.select(\"Div\", \"Date\", \"HomeTeam\", \"AwayTeam\", \"HST\", \"AST\")\n",
        "    substitutions_table = premier_df.select(\"Div\", \"Date\", \"HomeTeam\", \"AwayTeam\")  # Ajuste aquí\n",
        "    alternative_betting_odds_table = premier_df.select(\"Div\", \"Date\", \"HomeTeam\", \"AwayTeam\", \"BWH\", \"BWD\", \"BWA\", \"IWH\", \"IWD\", \"IWA\", \"WHH\", \"WHD\", \"WHA\")\n",
        "\n",
        "    # Escribir las tablas en la base de datos\n",
        "    matches_table.write.jdbc(url=url, table=\"matches\", mode=\"overwrite\", properties=properties)\n",
        "    general_stats_table.write.jdbc(url=url, table=\"general_stats\", mode=\"overwrite\", properties=properties)\n",
        "    cards_table.write.jdbc(url=url, table=\"cards\", mode=\"overwrite\", properties=properties)\n",
        "    corners_table.write.jdbc(url=url, table=\"corners\", mode=\"overwrite\", properties=properties)\n",
        "    half_time_results_table.write.jdbc(url=url, table=\"half_time_results\", mode=\"overwrite\", properties=properties)\n",
        "    betting_odds_table.write.jdbc(url=url, table=\"betting_odds\", mode=\"overwrite\", properties=properties)\n",
        "    shots_on_target_table.write.jdbc(url=url, table=\"shots_on_target\", mode=\"overwrite\", properties=properties)\n",
        "    substitutions_table.write.jdbc(url=url, table=\"substitutions\", mode=\"overwrite\", properties=properties)\n",
        "    alternative_betting_odds_table.write.jdbc(url=url, table=\"alternative_betting_odds\", mode=\"overwrite\", properties=properties)"
      ],
      "metadata": {
        "id": "b2HpoxJqFlHe"
      },
      "execution_count": null,
      "outputs": []
    },
    {
      "cell_type": "code",
      "source": [
        "#INSERCION DEL CSV\n",
        "from pyspark.sql import SparkSession\n",
        "\n",
        "# Sesión de Spark y Controlador PostgreSQL\n",
        "spark = SparkSession.builder.appName(\"example\").config(\"spark.driver.extraClassPath\", \"/content/postgresql-42.2.23.jar\").getOrCreate()\n",
        "\n",
        "# Conn de bd de render\n",
        "host = \"dpg-ck7g9u7q54js73famlu0-a.oregon-postgres.render.com\"\n",
        "port = 5432\n",
        "database = \"codema\"\n",
        "user = \"codema_user\"\n",
        "password = \"TL35jKeo53oDQkPDsw6c587xWAMSCmd6\"\n",
        "\n",
        "# Conexión\n",
        "url = f\"jdbc:postgresql://{host}:{port}/{database}\"\n",
        "properties = {\"user\": user, \"password\": password, \"driver\": \"org.postgresql.Driver\"}\n",
        "\n",
        "try:\n",
        "    # Leer el CSV y convertirlo en un DataFrame\n",
        "    csv_file_path = \"/content/premier1.csv\"  # Reemplaza con la ruta correcta de tu archivo CSV\n",
        "    premier_df = spark.read.csv(csv_file_path, header=True, inferSchema=True)\n",
        "\n",
        "    # Muestra el DataFrame\n",
        "    premier_df.show()\n",
        "\n",
        "    # Escribir el DataFrame en la base de datos\n",
        "    premier_df.write.jdbc(url=url, table=\"premier_league\", mode=\"append\", properties=properties)\n",
        "\n",
        "\n",
        "except Exception as e:\n",
        "    print(\"Error al leer o escribir datos:\", str(e))\n",
        "finally:\n",
        "    # Cierra la sesión de Spark\n",
        "    spark.stop()\n"
      ],
      "metadata": {
        "colab": {
          "base_uri": "https://localhost:8080/"
        },
        "id": "bAPsULjX06Bb",
        "outputId": "0ae8b0aa-c0b7-457e-f3bf-2605f850a14e"
      },
      "execution_count": null,
      "outputs": [
        {
          "output_type": "stream",
          "name": "stdout",
          "text": [
            "+---+----------+-------------------+----------------+----------------+----+----+---+----+----+---+----------+---+---+---+---+---+---+---+---+---+---+---+---+-----+-----+-----+----+----+----+----+----+----+-----+----+-----+----+----+----+----+---+----+----+----+----+-----+----+-----+--------+--------+-----+-----+-------+-------+-------+-------+-----+-------+-------+----+----+------+------+------+------+------+------+------+----+----+----+----+----+----+-----+-----+-----+----+----+----+----+----+----+-----+-----+-----+-----+-----+-----+---------+---------+------+------+--------+--------+--------+--------+-----+--------+--------+-----+-----+-------+-------+-------+-------+\n",
            "|Div|      Date|               Time|        HomeTeam|        AwayTeam|FTHG|FTAG|FTR|HTHG|HTAG|HTR|   Referee| HS| AS|HST|AST| HF| AF| HC| AC| HY| AY| HR| AR|B365H|B365D|B365A| BWH| BWD| BWA| IWH| IWD| IWA|  PSH| PSD|  PSA| WHH| WHD| WHA| VCH|VCD| VCA|MaxH|MaxD|MaxA| AvgH|AvgD| AvgA|B365>2.5|B365<2.5|P>2.5|P<2.5|Max>2.5|Max<2.5|Avg>2.5|Avg<2.5|  AHh|B365AHH|B365AHA|PAHH|PAHA|MaxAHH|MaxAHA|AvgAHH|AvgAHA|B365CH|B365CD|B365CA|BWCH|BWCD|BWCA|IWCH|IWCD|IWCA| PSCH| PSCD| PSCA|WHCH|WHCD|WHCA|VCCH|VCCD|VCCA|MaxCH|MaxCD|MaxCA|AvgCH|AvgCD|AvgCA|B365C>2.5|B365C<2.5|PC>2.5|PC<2.5|MaxC>2.5|MaxC<2.5|AvgC>2.5|AvgC<2.5| AHCh|B365CAHH|B365CAHA|PCAHH|PCAHA|MaxCAHH|MaxCAHA|AvgCAHH|AvgCAHA|\n",
            "+---+----------+-------------------+----------------+----------------+----+----+---+----+----+---+----------+---+---+---+---+---+---+---+---+---+---+---+---+-----+-----+-----+----+----+----+----+----+----+-----+----+-----+----+----+----+----+---+----+----+----+----+-----+----+-----+--------+--------+-----+-----+-------+-------+-------+-------+-----+-------+-------+----+----+------+------+------+------+------+------+------+----+----+----+----+----+----+-----+-----+-----+----+----+----+----+----+----+-----+-----+-----+-----+-----+-----+---------+---------+------+------+--------+--------+--------+--------+-----+--------+--------+-----+-----+-------+-------+-------+-------+\n",
            "| E0|09/08/2019|2023-11-23 20:00:00|       Liverpool|         Norwich|   4|   1|  H|   4|   0|  H|  M Oliver| 15| 12|  7|  5|  9|  9| 11|  2|  0|  2|  0|  0| 1.14| 10.0| 19.0|1.14|8.25|18.5|1.15| 8.0|18.0| 1.15|9.59|18.05|1.12| 8.5|21.0|1.14|9.5|23.0|1.16|10.0|23.0| 1.14|8.75|19.83|     1.4|     3.0|  1.4| 3.11|   1.45|   3.11|   1.41|   2.92|-2.25|   1.96|   1.94|1.97|1.95|  1.97|   2.0|  1.94|  1.94|  1.14|   9.5|  21.0|1.14| 9.0|20.0|1.15| 8.0|18.0| 1.14|10.43|19.63|1.11| 9.5|21.0|1.14| 9.5|23.0| 1.16| 10.5| 23.0| 1.14| 9.52|19.18|      1.3|      3.5|  1.34|  3.44|    1.36|    3.76|    1.32|    3.43|-2.25|    1.91|    1.99| 1.94| 1.98|   1.99|   2.07|    1.9|   1.99|\n",
            "| E0|10/08/2019|2023-11-23 12:30:00|        West Ham|        Man City|   0|   5|  A|   0|   1|  A|    M Dean|  5| 14|  3|  9|  6| 13|  1|  1|  2|  2|  0|  0| 12.0|  6.5| 1.22|11.5|5.75|1.26|11.0| 6.1|1.25|11.68|6.53| 1.26|13.0| 6.0|1.24|12.0|6.5|1.25|13.0|6.75|1.29|11.84|6.28| 1.25|    1.44|    2.75| 1.49| 2.77|   1.51|   2.77|   1.48|   2.65| 1.75|    2.0|    1.9|2.02| 1.9|  2.02|  1.92|  1.99|  1.89|  12.0|   7.0|  1.25|11.0| 6.0|1.26|11.0| 6.1|1.25|11.11| 6.68| 1.27|11.0| 6.5|1.24|12.0| 6.5|1.25| 13.0|  7.0| 1.29|11.14| 6.46| 1.26|      1.4|      3.0|  1.43|  3.03|     1.5|    3.22|    1.41|    2.91| 1.75|    1.95|    1.95| 1.96| 1.97|   2.07|   1.98|   1.97|   1.92|\n",
            "| E0|10/08/2019|2023-11-23 15:00:00|     Bournemouth|Sheffield United|   1|   1|  D|   0|   0|  D|  K Friend| 13|  8|  3|  3| 10| 19|  3|  4|  2|  1|  0|  0| 1.95|  3.6|  3.6|1.95| 3.6| 3.9|1.97|3.55| 3.8| 2.04|3.57|  3.9| 2.0| 3.5| 3.8| 2.0|3.6| 4.0|2.06|3.65| 4.0| 2.01|3.53| 3.83|     1.9|     1.9| 1.96| 1.96|    2.0|   1.99|    1.9|   1.93| -0.5|   2.01|   1.89|2.04|1.88|  2.04|  1.91|   2.0|  1.88|  1.95|   3.7|   4.2|1.95| 3.6| 3.9|1.97|3.55|3.85| 1.98| 3.67| 4.06|1.95| 3.6| 3.9| 2.0| 3.6| 4.0| 2.03|  3.7|  4.2| 1.98| 3.58| 3.96|      1.9|      1.9|  1.94|  1.97|    1.97|    1.98|    1.91|    1.92| -0.5|    1.95|    1.95| 1.98| 1.95|    2.0|   1.96|   1.96|   1.92|\n",
            "| E0|10/08/2019|2023-11-23 15:00:00|         Burnley|     Southampton|   3|   0|  H|   0|   0|  D|   G Scott| 10| 11|  4|  3|  6| 12|  2|  7|  0|  0|  0|  0| 2.62|  3.2| 2.75|2.65| 3.2|2.75|2.65| 3.2|2.75| 2.71|3.31| 2.81| 2.7| 3.2|2.75| 2.7|3.3| 2.8| 2.8|3.33|2.85| 2.68|3.22| 2.78|     2.1|    1.72| 2.17| 1.77|    2.2|   1.78|   2.12|   1.73|  0.0|   1.92|   1.98|1.93| 2.0|  1.94|   2.0|  1.91|  1.98|   2.7|  3.25|   2.9|2.65| 3.1|2.85| 2.6| 3.2|2.85| 2.71| 3.19|  2.9|2.62| 3.2| 2.8| 2.7|3.25| 2.9| 2.72| 3.26| 2.95| 2.65| 3.18| 2.88|      2.1|     1.72|  2.19|  1.76|    2.25|    1.78|    2.17|    1.71|  0.0|    1.87|    2.03| 1.89| 2.03|    1.9|   2.07|   1.86|   2.02|\n",
            "| E0|10/08/2019|2023-11-23 15:00:00|  Crystal Palace|         Everton|   0|   0|  D|   0|   0|  D|    J Moss|  6| 10|  2|  3| 16| 14|  6|  2|  2|  1|  0|  1|  3.0| 3.25| 2.37| 3.2| 3.2|2.35| 3.1| 3.2| 2.4| 3.21|3.37| 2.39| 3.1| 3.3|2.35| 3.2|3.3|2.45|3.21| 3.4|2.52| 3.13|3.27|  2.4|     2.2|    1.66| 2.23| 1.74|   2.25|   1.74|   2.18|    1.7| 0.25|   1.85|   2.05|1.88|2.05|  1.88|  2.09|  1.84|  2.04|   3.4|   3.5|  2.25| 3.3| 3.3|2.25| 3.4| 3.3| 2.2| 3.37| 3.45| 2.27| 3.3| 3.3|2.25| 3.4| 3.3|2.25| 3.55|  3.5| 2.34| 3.41| 3.37| 2.23|      2.2|     1.66|  2.22|  1.74|    2.28|    1.77|    2.17|    1.71| 0.25|    1.82|    2.08| 1.97| 1.96|   2.03|   2.08|   1.96|   1.93|\n",
            "| E0|10/08/2019|2023-11-23 15:00:00|         Watford|        Brighton|   0|   3|  A|   0|   1|  A|  C Pawson| 11|  5|  3|  3| 15| 11|  5|  2|  0|  1|  0|  0|  1.9|  3.4|  4.0| 1.9| 3.4|4.33|1.93| 3.4|4.25| 1.98|3.44| 4.37|1.95| 3.4| 4.2|1.95|3.5|4.33| 2.0| 3.5| 4.6| 1.94|3.41| 4.26|     2.1|    1.72| 2.19| 1.76|   2.24|   1.76|   2.16|   1.71| -0.5|   1.95|   1.95|1.98|1.95|  1.98|  1.98|  1.94|  1.94|   2.1|  3.25|   4.2| 2.1| 3.1| 4.0|2.05| 3.2| 4.0| 2.05| 3.38| 4.12|2.05|3.25| 4.0|2.15| 3.3| 3.9| 2.15| 3.38|  4.2| 2.07| 3.27| 4.04|      2.1|     1.72|  2.16|  1.78|     2.2|    1.78|    2.14|    1.73| -0.5|    2.04|    1.86| 2.05| 1.88|   2.12|   1.91|   2.05|   1.84|\n",
            "| E0|10/08/2019|2023-11-23 17:30:00|       Tottenham|     Aston Villa|   3|   1|  H|   0|   1|  A|C Kavanagh| 31|  7|  7|  4| 13|  9| 14|  0|  1|  0|  0|  0|  1.3| 5.25| 10.0| 1.3| 5.5|10.0| 1.3| 5.5| 9.6|  1.3|5.84|10.96|1.29| 5.5|10.0| 1.3|5.5|12.0|1.33|5.95|12.0|  1.3|5.53|10.51|    1.66|     2.2| 1.64|  2.4|    1.7|    2.4|   1.65|   2.26| -1.5|   1.97|   1.93|1.99|1.93|   2.0|   2.0|  1.93|  1.94|  1.36|   5.5|   9.0|1.35| 5.0| 9.0| 1.3| 5.5| 9.6| 1.39| 5.35| 8.42|1.35|5.25| 8.0| 1.4| 5.2| 9.0|  1.4|  5.7| 10.0| 1.36| 5.29| 8.82|     1.57|     2.37|  1.58|  2.52|    1.65|    2.55|    1.58|     2.4| -1.5|     2.1|     1.7| 2.18| 1.77|   2.21|   1.87|   2.08|    1.8|\n",
            "| E0|11/08/2019|2023-11-23 14:00:00|       Leicester|          Wolves|   0|   0|  D|   0|   0|  D|A Marriner| 15|  8|  1|  2|  3| 13| 12|  3|  0|  2|  0|  0|  2.2|  3.2|  3.4|2.25| 3.3| 3.3| 2.2|3.25|3.45| 2.21|3.34| 3.66| 2.2|3.25| 3.5|2.25|3.3| 3.6|2.29|3.38|3.66| 2.22|3.28| 3.48|     2.2|    1.66| 2.23| 1.74|   2.25|   1.74|   2.17|    1.7|-0.25|    1.9|    2.0| 1.9|2.04|  1.95|  2.04|  1.91|  1.98|   2.4|  3.25|   3.3|2.35| 3.2| 3.3|2.35|3.15| 3.2|  2.5| 3.12|  3.3|2.35| 3.1| 3.3|2.45| 3.2| 3.3| 2.55| 3.25| 3.58| 2.41| 3.14| 3.29|      2.3|     1.61|  2.45|  1.63|    2.45|    1.71|    2.33|    1.62|-0.25|    2.07|    1.83| 2.11| 1.83|   2.12|   1.98|   2.06|   1.84|\n",
            "| E0|11/08/2019|2023-11-23 14:00:00|       Newcastle|         Arsenal|   0|   1|  A|   0|   0|  D|M Atkinson|  9|  8|  2|  2| 12|  7|  5|  3|  1|  3|  0|  0|  4.5| 3.75| 1.72| 4.5|3.75|1.78| 4.4|3.85|1.77| 4.58|3.93| 1.81| 4.5|3.75|1.78| 4.6|3.9| 1.8| 4.7| 4.0|1.83| 4.49|3.82| 1.79|     1.8|     2.0| 1.83|  2.1|   1.83|   2.14|   1.77|   2.07| 0.75|   1.85|   2.05|1.86|2.07|  1.88|  2.08|  1.85|  2.03|   3.4|   3.6|   2.2| 3.3| 3.5| 2.2|3.25| 3.5| 2.2| 3.36| 3.56| 2.25| 3.5| 3.4|2.15| 3.4| 3.5|2.25| 3.76| 3.65| 2.25| 3.36| 3.51|  2.2|      1.8|      2.0|  1.83|  2.09|    1.85|    2.17|    1.79|    2.05| 0.25|    1.99|    1.91| 1.99| 1.95|   2.17|   1.97|    2.0|   1.89|\n",
            "| E0|11/08/2019|2023-11-23 16:30:00|      Man United|         Chelsea|   4|   0|  H|   1|   0|  H|  A Taylor| 11| 18|  5|  7| 15| 13|  3|  5|  3|  4|  0|  0|  2.1|  3.3|  3.5|2.15| 3.3| 3.5|2.15|3.35| 3.4| 2.21|3.37| 3.63|2.15| 3.3| 3.5|2.25|3.3| 3.5|2.28|3.43|3.63| 2.19|3.32| 3.49|     2.0|     1.8| 2.05| 1.87|    2.1|   1.87|   2.01|   1.83|-0.25|    1.9|    2.0| 1.9|2.04|  1.92|  2.04|  1.89|   2.0|  2.05|   3.5|   4.0| 2.1| 3.3| 3.8|2.05| 3.3|3.85| 2.04| 3.44| 4.14| 2.0| 3.4| 4.0|2.05| 3.4| 4.1|  2.2|  3.5|  4.4| 2.05| 3.36| 3.99|      2.0|      1.8|  2.05|  1.88|    2.07|    2.04|    1.99|    1.84| -0.5|    2.02|    1.88| 2.04|  1.9|    2.1|   1.91|   2.04|   1.85|\n",
            "| E0|17/08/2019|2023-11-23 12:30:00|         Arsenal|         Burnley|   2|   1|  H|   1|   1|  D|    M Dean| 16| 18|  9|  5| 13| 11| 10|  7|  2|  1|  0|  0|  1.3|  5.5| 10.0| 1.3| 5.5|10.0| 1.3| 5.6| 9.5| 1.34|5.68| 9.35|1.32|5.25|10.0|1.33|5.5|10.5|1.36|5.75|11.0| 1.33|5.49| 9.48|    1.57|    2.37| 1.61| 2.47|   1.65|   2.47|    1.6|   2.34| -1.5|   2.02|   1.91|2.05|1.88|  2.06|  1.95|  1.98|   1.9|  1.33|  5.25|   9.0|1.33| 5.5|9.25| 1.3| 5.6| 9.5| 1.38| 5.35| 8.78|1.33|5.25| 9.5|1.36| 5.4| 9.5|  1.4|  5.6| 10.0| 1.36| 5.27| 8.77|     1.61|      2.3|  1.63|  2.42|    1.65|    2.47|    1.61|    2.35| -1.5|    2.11|    1.82| 2.11| 1.82|   2.16|   1.94|   2.05|   1.84|\n",
            "| E0|17/08/2019|2023-11-23 15:00:00|     Aston Villa|     Bournemouth|   1|   2|  A|   0|   2|  A|M Atkinson| 22| 12|  7|  4| 10| 13| 10|  5|  0|  2|  0|  0|  2.3|  3.4|  3.1|2.25| 3.5| 3.1| 2.3|3.45|3.05| 2.32|3.56| 3.17|2.25| 3.5| 3.1|2.38|3.5| 3.2|2.42|3.64| 3.2| 2.33|3.49| 3.08|     1.8|     2.0| 1.81| 2.11|   1.86|   2.11|   1.81|   2.03|-0.25|   2.02|   1.91|2.02|1.91|  2.03|  1.92|  2.01|  1.88|   2.2|   3.6|   3.1|2.25| 3.6| 3.1|2.25| 3.6|3.05|  2.3| 3.69| 3.11|2.25| 3.5| 3.1| 2.3| 3.7|3.13| 2.33| 3.75| 3.22| 2.26| 3.62| 3.12|     1.61|      2.3|  1.64|  2.39|    1.75|    2.39|    1.66|    2.26|-0.25|    2.01|    1.92| 2.01| 1.92|   2.01|   1.96|   1.97|   1.92|\n",
            "| E0|17/08/2019|2023-11-23 15:00:00|        Brighton|        West Ham|   1|   1|  D|   0|   0|  D|  A Taylor| 16|  8|  4|  3| 11| 10|  8|  6|  0|  2|  0|  0| 2.55| 3.25| 2.87| 2.5| 3.3| 2.9| 2.5| 3.3|2.85| 2.58|3.38| 2.92| 2.5| 3.3|2.88|2.55|3.4| 3.0|2.65|3.42| 3.0| 2.52|3.33|  2.9|     1.9|     1.9| 1.99| 1.93|    2.0|   1.94|   1.95|   1.87|-0.25|   2.07|   1.72|2.21|1.75|  2.21|   1.8|  2.16|  1.75|   2.2|   3.4|   3.3|2.25| 3.3| 3.4| 2.2| 3.4| 3.3| 2.22|  3.6| 3.34| 2.1| 3.5| 3.5|2.25| 3.4| 3.5|  2.3|  3.6| 3.74| 2.23| 3.44| 3.34|      1.9|      1.9|  1.95|  1.97|     2.0|    2.12|    1.92|    1.91|-0.25|    1.91|    2.02| 1.93|  2.0|   1.96|   2.15|   1.91|   1.98|\n",
            "| E0|17/08/2019|2023-11-23 15:00:00|         Everton|         Watford|   1|   0|  H|   1|   0|  H|   L Mason| 12|  8|  2|  2| 11| 11|  4|  7|  2|  3|  0|  0| 1.72|  3.8| 4.75|1.67| 4.0| 5.0| 1.7| 3.9|4.65| 1.76|3.95| 4.87|1.73| 3.8| 4.8|1.73|4.0| 5.2| 1.8|4.05| 5.2| 1.73| 3.9| 4.86|    1.72|     2.1| 1.86| 2.06|   1.86|    2.2|   1.79|   2.05|-0.75|   1.97|   1.96| 2.0|1.93|   2.0|  1.97|  1.94|  1.95|   1.8|   3.6|   4.5|1.83|3.75| 4.5|1.83|3.65|4.35| 1.85| 3.66| 4.64|1.78| 3.7| 4.5|1.85|3.75| 4.6| 1.89| 3.88| 4.84| 1.83| 3.69| 4.56|     1.72|      2.1|  1.81|  2.12|    1.82|    2.14|    1.78|    2.07|-0.75|    2.11|    1.82| 2.12| 1.81|   2.16|   1.87|   2.07|   1.83|\n",
            "| E0|17/08/2019|2023-11-23 15:00:00|         Norwich|       Newcastle|   3|   1|  H|   1|   0|  H| S Attwell| 15| 10|  8|  3|  9| 11|  7|  5|  1|  3|  0|  0| 2.25|  3.3|  3.3|2.25| 3.3| 3.3| 2.2|3.35|3.35| 2.25|3.42| 3.44|2.15| 3.4| 3.4|2.25|3.4| 3.5| 2.3| 3.5| 3.5| 2.23|3.38| 3.38|     1.9|     1.9| 1.98| 1.93|   2.05|   1.93|   1.95|   1.88|-0.25|   1.93|    2.0|1.94|1.99|  1.95|  2.01|  1.92|  1.97|   2.1|   3.4|   3.5|2.15| 3.4| 3.5|2.15|3.35| 3.5| 2.14| 3.57| 3.58| 2.1| 3.4| 3.6| 2.2| 3.4| 3.7| 2.25|  3.6| 3.86| 2.15| 3.44| 3.55|      1.9|      1.9|  1.96|  1.96|     2.0|     2.1|    1.93|     1.9|-0.25|    1.84|    2.09| 1.85| 2.08|   1.88|   2.15|   1.84|   2.05|\n",
            "| E0|17/08/2019|2023-11-23 15:00:00|     Southampton|       Liverpool|   1|   2|  A|   0|   1|  A|A Marriner| 14| 15|  3|  6| 10|  6|  5|  9|  2|  1|  0|  0|  6.5| 4.75| 1.44|6.25|4.75|1.48| 7.5| 4.8| 1.4| 7.04|4.72| 1.48| 7.0| 4.6|1.44| 7.5|4.8|1.45| 7.5| 4.9|1.52| 6.77|4.67| 1.47|    1.66|     2.2| 1.65| 2.37|    1.7|   2.38|   1.64|   2.28| 1.25|   1.86|   2.07|1.85|2.08|  1.87|  2.09|  1.84|  2.04|   6.5|   4.5|  1.45| 6.5| 4.5| 1.5| 7.0| 4.5|1.45| 6.43| 4.57| 1.53| 7.0| 4.4|1.47| 7.0| 4.6| 1.5|  7.4| 4.85| 1.55| 6.48| 4.56|  1.5|     1.61|      2.3|  1.66|  2.36|    1.68|    2.44|    1.63|    2.32|  1.0|    2.07|    1.86| 2.05| 1.88|   2.21|    1.9|   2.08|   1.81|\n",
            "| E0|17/08/2019|2023-11-23 17:30:00|        Man City|       Tottenham|   2|   2|  D|   2|   1|  H|  M Oliver| 30|  3| 10|  2| 14|  4| 13|  2|  1|  0|  0|  0| 1.36| 5.25|  8.0|1.35| 5.5|7.75|1.35| 5.3| 8.0| 1.37|5.42| 8.71|1.35|5.25| 8.5|1.36|5.5| 9.0| 1.4| 5.5| 9.0| 1.36|5.32| 8.46|    1.53|     2.5| 1.55| 2.61|   1.56|   2.69|   1.52|   2.55| -1.5|   2.03|    1.9|2.04|1.89|  2.04|  1.91|   2.0|  1.87|  1.33|   5.5|   8.0|1.36| 5.5|8.25|1.35| 5.3| 8.0| 1.37| 5.63| 8.39|1.35|5.25| 8.5|1.36| 5.5| 9.0|  1.4|  5.7| 9.05| 1.36| 5.47|  8.2|      1.5|     2.62|  1.52|  2.71|    1.55|    2.92|     1.5|    2.62| -1.5|    2.05|    1.88| 2.04| 1.89|   2.07|   1.97|    2.0|   1.88|\n",
            "| E0|18/08/2019|2023-11-23 14:00:00|Sheffield United|  Crystal Palace|   1|   0|  H|   0|   0|  D|   D Coote| 15|  6|  3|  4| 16| 11|  8|  4|  3|  1|  0|  0| 2.55|  3.1|  2.9|2.55| 3.2| 2.9|2.55| 3.1|2.95|  2.6|3.21| 3.02|2.55| 3.2| 2.9|2.63|3.2| 3.0|2.65|3.35| 3.1| 2.57|3.19| 2.95|     2.3|    1.61| 2.41| 1.63|   2.45|   1.66|   2.37|    1.6|-0.25|   2.15|   1.67|2.21|1.75|  2.25|  1.76|  2.19|  1.73|  2.45|   3.3|   2.9| 2.5|3.25| 3.0|2.45|3.15| 3.0| 2.51| 3.33| 3.08| 2.5| 3.1| 3.1|2.55|3.25| 3.1|  2.6| 3.33|  3.1| 2.51| 3.24| 3.01|      2.1|     1.72|  2.13|   1.8|     2.2|    1.87|     2.1|    1.76|-0.25|    2.02|    1.77| 2.14| 1.81|   2.18|   1.84|   2.13|   1.78|\n",
            "| E0|18/08/2019|2023-11-23 16:30:00|         Chelsea|       Leicester|   1|   1|  D|   1|   0|  H|O Langford| 14| 12|  5|  3|  9| 14|  4|  5|  1|  0|  0|  0|  1.7| 3.75|  5.0|1.72| 3.7| 5.0|1.73|3.75| 4.9| 1.74|3.79| 5.28| 1.7| 3.7|5.25|1.73|3.8|5.25|1.77| 4.0|5.35| 1.73|3.77| 5.07|     1.9|     1.9| 2.01| 1.91|   2.02|   1.92|   1.96|   1.86|-0.75|   1.97|   1.96|1.99|1.94|  1.99|  1.97|  1.95|  1.94|   1.7|  3.75|   5.0|1.72| 3.8| 5.0| 1.7| 3.8| 5.0| 1.73|  3.9| 5.23| 1.7| 3.7|5.25|1.75| 3.8| 5.0|  1.8|  4.0|  5.7| 1.73| 3.84|  5.0|      1.8|      2.0|  1.83|   2.1|    1.87|    2.17|    1.82|    2.01|-0.75|    1.93|    1.97| 1.96| 1.98|   2.01|   2.06|   1.94|   1.96|\n",
            "| E0|19/08/2019|2023-11-23 20:00:00|          Wolves|      Man United|   1|   1|  D|   0|   1|  A|    J Moss|  6|  9|  2|  2| 17|  8|  4|  6|  2|  2|  0|  0|  3.3|  3.3| 2.25| 3.3|3.25| 2.3|3.25| 3.3|2.25|  3.4|3.29| 2.33| 3.3|3.25| 2.3| 3.4|3.3| 2.3|3.41| 3.4|2.35| 3.32|3.28|  2.3|     2.1|    1.72| 2.18| 1.76|   2.19|   1.78|   2.12|   1.74| 0.25|   1.93|    2.0|1.93| 2.0|  1.95|  2.02|  1.92|  1.97|  2.87|   3.3|  2.45| 3.0| 3.3|2.45| 3.1| 3.3|2.35| 2.98| 3.32| 2.56| 3.0|3.25|2.45| 3.0| 3.4|2.55| 3.24|  3.4| 2.61|  3.0| 3.29| 2.49|      2.1|     1.72|  2.17|  1.78|    2.21|    1.83|    2.12|    1.74| 0.25|    1.75|     2.2| 1.77| 2.19|   1.89|   2.25|   1.77|   2.15|\n",
            "+---+----------+-------------------+----------------+----------------+----+----+---+----+----+---+----------+---+---+---+---+---+---+---+---+---+---+---+---+-----+-----+-----+----+----+----+----+----+----+-----+----+-----+----+----+----+----+---+----+----+----+----+-----+----+-----+--------+--------+-----+-----+-------+-------+-------+-------+-----+-------+-------+----+----+------+------+------+------+------+------+------+----+----+----+----+----+----+-----+-----+-----+----+----+----+----+----+----+-----+-----+-----+-----+-----+-----+---------+---------+------+------+--------+--------+--------+--------+-----+--------+--------+-----+-----+-------+-------+-------+-------+\n",
            "only showing top 20 rows\n",
            "\n"
          ]
        }
      ]
    }
  ]
}